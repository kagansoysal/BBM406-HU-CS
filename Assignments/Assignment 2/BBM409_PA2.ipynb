{
 "cells": [
  {
   "cell_type": "markdown",
   "id": "bc114dac",
   "metadata": {
    "id": "bc114dac"
   },
   "source": [
    "### ## BBM 409 - Programming Assignment 2"
   ]
  },
  {
   "cell_type": "markdown",
   "id": "d8ea3c2b",
   "metadata": {
    "id": "d8ea3c2b"
   },
   "source": [
    "##  GAZİ KAĞAN SOYSAL 2210356050"
   ]
  },
  {
   "cell_type": "markdown",
   "id": "Yl2_EmlpSBxR",
   "metadata": {
    "id": "Yl2_EmlpSBxR"
   },
   "source": [
    "**Task:**\n",
    "We will analyze the results using logistic regression, svm and decision tree algorithms on the datasets we have."
   ]
  },
  {
   "cell_type": "markdown",
   "id": "1c54071b",
   "metadata": {
    "id": "1c54071b"
   },
   "source": [
    "# LOGISTIC REGRESSION"
   ]
  },
  {
   "cell_type": "markdown",
   "id": "1e67687a",
   "metadata": {
    "id": "1e67687a"
   },
   "source": [
    "### 1. Data Loading and Exploration"
   ]
  },
  {
   "cell_type": "code",
   "execution_count": 1,
   "id": "DNH47AdDSP8u",
   "metadata": {
    "id": "DNH47AdDSP8u"
   },
   "outputs": [],
   "source": [
    "# Importing necessary libraries\n",
    "import numpy as np\n",
    "import pandas as pd\n",
    "import seaborn as sns\n",
    "import math\n",
    "import matplotlib.pyplot as plt\n",
    "from sklearn.metrics import accuracy_score\n",
    "from sklearn.model_selection import GridSearchCV, train_test_split\n",
    "from sklearn.svm import SVC\n",
    "from sklearn.metrics import classification_report, confusion_matrix\n",
    "from sklearn.preprocessing import StandardScaler\n",
    "from sklearn.model_selection import train_test_split\n",
    "from IPython.display import display, HTML\n",
    "from IPython.display import Markdown, display"
   ]
  },
  {
   "cell_type": "code",
   "execution_count": 2,
   "id": "dda172ca",
   "metadata": {
    "colab": {
     "base_uri": "https://localhost:8080/",
     "height": 148
    },
    "executionInfo": {
     "elapsed": 469,
     "status": "error",
     "timestamp": 1732216120787,
     "user": {
      "displayName": "Gebhard Von Blucher",
      "userId": "16007988255002797096"
     },
     "user_tz": -180
    },
    "id": "dda172ca",
    "outputId": "8ce50cb2-137c-4394-b2fb-c11349ab4a37"
   },
   "outputs": [
    {
     "data": {
      "text/html": [
       "<div>\n",
       "<style scoped>\n",
       "    .dataframe tbody tr th:only-of-type {\n",
       "        vertical-align: middle;\n",
       "    }\n",
       "\n",
       "    .dataframe tbody tr th {\n",
       "        vertical-align: top;\n",
       "    }\n",
       "\n",
       "    .dataframe thead th {\n",
       "        text-align: right;\n",
       "    }\n",
       "</style>\n",
       "<table border=\"1\" class=\"dataframe\">\n",
       "  <thead>\n",
       "    <tr style=\"text-align: right;\">\n",
       "      <th></th>\n",
       "      <th>age</th>\n",
       "      <th>job</th>\n",
       "      <th>marital</th>\n",
       "      <th>education</th>\n",
       "      <th>default</th>\n",
       "      <th>balance</th>\n",
       "      <th>housing</th>\n",
       "      <th>loan</th>\n",
       "      <th>contact</th>\n",
       "      <th>day_of_week</th>\n",
       "      <th>month</th>\n",
       "      <th>duration</th>\n",
       "      <th>campaign</th>\n",
       "      <th>pdays</th>\n",
       "      <th>previous</th>\n",
       "      <th>poutcome</th>\n",
       "      <th>y</th>\n",
       "    </tr>\n",
       "  </thead>\n",
       "  <tbody>\n",
       "    <tr>\n",
       "      <th>0</th>\n",
       "      <td>28</td>\n",
       "      <td>9.0</td>\n",
       "      <td>0</td>\n",
       "      <td>2.0</td>\n",
       "      <td>1</td>\n",
       "      <td>1055</td>\n",
       "      <td>1</td>\n",
       "      <td>1</td>\n",
       "      <td>1.0</td>\n",
       "      <td>28</td>\n",
       "      <td>1</td>\n",
       "      <td>196</td>\n",
       "      <td>1</td>\n",
       "      <td>-1</td>\n",
       "      <td>0</td>\n",
       "      <td>0.0</td>\n",
       "      <td>1</td>\n",
       "    </tr>\n",
       "    <tr>\n",
       "      <th>1</th>\n",
       "      <td>36</td>\n",
       "      <td>4.0</td>\n",
       "      <td>1</td>\n",
       "      <td>2.0</td>\n",
       "      <td>1</td>\n",
       "      <td>520</td>\n",
       "      <td>2</td>\n",
       "      <td>1</td>\n",
       "      <td>0.0</td>\n",
       "      <td>23</td>\n",
       "      <td>5</td>\n",
       "      <td>110</td>\n",
       "      <td>2</td>\n",
       "      <td>-1</td>\n",
       "      <td>0</td>\n",
       "      <td>0.0</td>\n",
       "      <td>1</td>\n",
       "    </tr>\n",
       "    <tr>\n",
       "      <th>2</th>\n",
       "      <td>38</td>\n",
       "      <td>2.0</td>\n",
       "      <td>0</td>\n",
       "      <td>3.0</td>\n",
       "      <td>1</td>\n",
       "      <td>1314</td>\n",
       "      <td>2</td>\n",
       "      <td>2</td>\n",
       "      <td>1.0</td>\n",
       "      <td>16</td>\n",
       "      <td>7</td>\n",
       "      <td>378</td>\n",
       "      <td>2</td>\n",
       "      <td>-1</td>\n",
       "      <td>0</td>\n",
       "      <td>0.0</td>\n",
       "      <td>1</td>\n",
       "    </tr>\n",
       "    <tr>\n",
       "      <th>3</th>\n",
       "      <td>41</td>\n",
       "      <td>9.0</td>\n",
       "      <td>1</td>\n",
       "      <td>3.0</td>\n",
       "      <td>1</td>\n",
       "      <td>28</td>\n",
       "      <td>2</td>\n",
       "      <td>1</td>\n",
       "      <td>1.0</td>\n",
       "      <td>4</td>\n",
       "      <td>2</td>\n",
       "      <td>358</td>\n",
       "      <td>2</td>\n",
       "      <td>-1</td>\n",
       "      <td>0</td>\n",
       "      <td>0.0</td>\n",
       "      <td>1</td>\n",
       "    </tr>\n",
       "    <tr>\n",
       "      <th>4</th>\n",
       "      <td>27</td>\n",
       "      <td>2.0</td>\n",
       "      <td>0</td>\n",
       "      <td>3.0</td>\n",
       "      <td>1</td>\n",
       "      <td>290</td>\n",
       "      <td>1</td>\n",
       "      <td>1</td>\n",
       "      <td>1.0</td>\n",
       "      <td>10</td>\n",
       "      <td>8</td>\n",
       "      <td>88</td>\n",
       "      <td>1</td>\n",
       "      <td>-1</td>\n",
       "      <td>0</td>\n",
       "      <td>0.0</td>\n",
       "      <td>1</td>\n",
       "    </tr>\n",
       "    <tr>\n",
       "      <th>...</th>\n",
       "      <td>...</td>\n",
       "      <td>...</td>\n",
       "      <td>...</td>\n",
       "      <td>...</td>\n",
       "      <td>...</td>\n",
       "      <td>...</td>\n",
       "      <td>...</td>\n",
       "      <td>...</td>\n",
       "      <td>...</td>\n",
       "      <td>...</td>\n",
       "      <td>...</td>\n",
       "      <td>...</td>\n",
       "      <td>...</td>\n",
       "      <td>...</td>\n",
       "      <td>...</td>\n",
       "      <td>...</td>\n",
       "      <td>...</td>\n",
       "    </tr>\n",
       "    <tr>\n",
       "      <th>10573</th>\n",
       "      <td>73</td>\n",
       "      <td>5.0</td>\n",
       "      <td>1</td>\n",
       "      <td>2.0</td>\n",
       "      <td>1</td>\n",
       "      <td>2850</td>\n",
       "      <td>1</td>\n",
       "      <td>1</td>\n",
       "      <td>1.0</td>\n",
       "      <td>17</td>\n",
       "      <td>11</td>\n",
       "      <td>300</td>\n",
       "      <td>1</td>\n",
       "      <td>40</td>\n",
       "      <td>8</td>\n",
       "      <td>1.0</td>\n",
       "      <td>2</td>\n",
       "    </tr>\n",
       "    <tr>\n",
       "      <th>10574</th>\n",
       "      <td>25</td>\n",
       "      <td>2.0</td>\n",
       "      <td>0</td>\n",
       "      <td>2.0</td>\n",
       "      <td>1</td>\n",
       "      <td>505</td>\n",
       "      <td>1</td>\n",
       "      <td>2</td>\n",
       "      <td>1.0</td>\n",
       "      <td>17</td>\n",
       "      <td>11</td>\n",
       "      <td>386</td>\n",
       "      <td>2</td>\n",
       "      <td>-1</td>\n",
       "      <td>0</td>\n",
       "      <td>0.0</td>\n",
       "      <td>2</td>\n",
       "    </tr>\n",
       "    <tr>\n",
       "      <th>10575</th>\n",
       "      <td>51</td>\n",
       "      <td>2.0</td>\n",
       "      <td>1</td>\n",
       "      <td>3.0</td>\n",
       "      <td>1</td>\n",
       "      <td>825</td>\n",
       "      <td>1</td>\n",
       "      <td>1</td>\n",
       "      <td>1.0</td>\n",
       "      <td>17</td>\n",
       "      <td>11</td>\n",
       "      <td>977</td>\n",
       "      <td>3</td>\n",
       "      <td>-1</td>\n",
       "      <td>0</td>\n",
       "      <td>0.0</td>\n",
       "      <td>2</td>\n",
       "    </tr>\n",
       "    <tr>\n",
       "      <th>10576</th>\n",
       "      <td>71</td>\n",
       "      <td>5.0</td>\n",
       "      <td>2</td>\n",
       "      <td>1.0</td>\n",
       "      <td>1</td>\n",
       "      <td>1729</td>\n",
       "      <td>1</td>\n",
       "      <td>1</td>\n",
       "      <td>1.0</td>\n",
       "      <td>17</td>\n",
       "      <td>11</td>\n",
       "      <td>456</td>\n",
       "      <td>2</td>\n",
       "      <td>-1</td>\n",
       "      <td>0</td>\n",
       "      <td>0.0</td>\n",
       "      <td>2</td>\n",
       "    </tr>\n",
       "    <tr>\n",
       "      <th>10577</th>\n",
       "      <td>72</td>\n",
       "      <td>5.0</td>\n",
       "      <td>1</td>\n",
       "      <td>2.0</td>\n",
       "      <td>1</td>\n",
       "      <td>5715</td>\n",
       "      <td>1</td>\n",
       "      <td>1</td>\n",
       "      <td>1.0</td>\n",
       "      <td>17</td>\n",
       "      <td>11</td>\n",
       "      <td>1127</td>\n",
       "      <td>5</td>\n",
       "      <td>184</td>\n",
       "      <td>3</td>\n",
       "      <td>3.0</td>\n",
       "      <td>2</td>\n",
       "    </tr>\n",
       "  </tbody>\n",
       "</table>\n",
       "<p>10578 rows × 17 columns</p>\n",
       "</div>"
      ],
      "text/plain": [
       "       age  job  marital  education  default  balance  housing  loan  contact  \\\n",
       "0       28  9.0        0        2.0        1     1055        1     1      1.0   \n",
       "1       36  4.0        1        2.0        1      520        2     1      0.0   \n",
       "2       38  2.0        0        3.0        1     1314        2     2      1.0   \n",
       "3       41  9.0        1        3.0        1       28        2     1      1.0   \n",
       "4       27  2.0        0        3.0        1      290        1     1      1.0   \n",
       "...    ...  ...      ...        ...      ...      ...      ...   ...      ...   \n",
       "10573   73  5.0        1        2.0        1     2850        1     1      1.0   \n",
       "10574   25  2.0        0        2.0        1      505        1     2      1.0   \n",
       "10575   51  2.0        1        3.0        1      825        1     1      1.0   \n",
       "10576   71  5.0        2        1.0        1     1729        1     1      1.0   \n",
       "10577   72  5.0        1        2.0        1     5715        1     1      1.0   \n",
       "\n",
       "       day_of_week  month  duration  campaign  pdays  previous  poutcome  y  \n",
       "0               28      1       196         1     -1         0       0.0  1  \n",
       "1               23      5       110         2     -1         0       0.0  1  \n",
       "2               16      7       378         2     -1         0       0.0  1  \n",
       "3                4      2       358         2     -1         0       0.0  1  \n",
       "4               10      8        88         1     -1         0       0.0  1  \n",
       "...            ...    ...       ...       ...    ...       ...       ... ..  \n",
       "10573           17     11       300         1     40         8       1.0  2  \n",
       "10574           17     11       386         2     -1         0       0.0  2  \n",
       "10575           17     11       977         3     -1         0       0.0  2  \n",
       "10576           17     11       456         2     -1         0       0.0  2  \n",
       "10577           17     11      1127         5    184         3       3.0  2  \n",
       "\n",
       "[10578 rows x 17 columns]"
      ]
     },
     "execution_count": 2,
     "metadata": {},
     "output_type": "execute_result"
    }
   ],
   "source": [
    "# Download the Bank Marketing dataset\n",
    "df_bankset = pd.read_csv(\"portuguese_bank_marketing_numeric_random_subsampled.csv\", encoding=\"utf-8\")\n",
    "df_bankset"
   ]
  },
  {
   "cell_type": "markdown",
   "id": "4b7d4495",
   "metadata": {},
   "source": [
    "- The dataset shows whether the clients will subscribe to the term deposit or not, depending on their features.\n",
    "\n",
    "- y shows labels. There are 16 features as numeric.\n",
    "\n",
    "- There are 10578 sample. We can say that we have big dataset."
   ]
  },
  {
   "cell_type": "code",
   "execution_count": 3,
   "id": "e2b7cd78",
   "metadata": {},
   "outputs": [
    {
     "data": {
      "text/markdown": [
       "**SUMMARY STATISTICS**"
      ],
      "text/plain": [
       "<IPython.core.display.Markdown object>"
      ]
     },
     "metadata": {},
     "output_type": "display_data"
    },
    {
     "data": {
      "text/html": [
       "<div>\n",
       "<style scoped>\n",
       "    .dataframe tbody tr th:only-of-type {\n",
       "        vertical-align: middle;\n",
       "    }\n",
       "\n",
       "    .dataframe tbody tr th {\n",
       "        vertical-align: top;\n",
       "    }\n",
       "\n",
       "    .dataframe thead th {\n",
       "        text-align: right;\n",
       "    }\n",
       "</style>\n",
       "<table border=\"1\" class=\"dataframe\">\n",
       "  <thead>\n",
       "    <tr style=\"text-align: right;\">\n",
       "      <th></th>\n",
       "      <th>age</th>\n",
       "      <th>job</th>\n",
       "      <th>marital</th>\n",
       "      <th>education</th>\n",
       "      <th>default</th>\n",
       "      <th>balance</th>\n",
       "      <th>housing</th>\n",
       "      <th>loan</th>\n",
       "      <th>contact</th>\n",
       "      <th>day_of_week</th>\n",
       "      <th>month</th>\n",
       "      <th>duration</th>\n",
       "      <th>campaign</th>\n",
       "      <th>pdays</th>\n",
       "      <th>previous</th>\n",
       "      <th>poutcome</th>\n",
       "      <th>y</th>\n",
       "    </tr>\n",
       "  </thead>\n",
       "  <tbody>\n",
       "    <tr>\n",
       "      <th>count</th>\n",
       "      <td>10578.000000</td>\n",
       "      <td>10578.000000</td>\n",
       "      <td>10578.000000</td>\n",
       "      <td>10578.000000</td>\n",
       "      <td>10578.000000</td>\n",
       "      <td>10578.000000</td>\n",
       "      <td>10578.000000</td>\n",
       "      <td>10578.000000</td>\n",
       "      <td>10578.000000</td>\n",
       "      <td>10578.000000</td>\n",
       "      <td>10578.000000</td>\n",
       "      <td>10578.000000</td>\n",
       "      <td>10578.000000</td>\n",
       "      <td>10578.000000</td>\n",
       "      <td>10578.000000</td>\n",
       "      <td>10578.000000</td>\n",
       "      <td>10578.000000</td>\n",
       "    </tr>\n",
       "    <tr>\n",
       "      <th>mean</th>\n",
       "      <td>41.189355</td>\n",
       "      <td>4.188788</td>\n",
       "      <td>0.795330</td>\n",
       "      <td>2.104935</td>\n",
       "      <td>1.013991</td>\n",
       "      <td>1528.343354</td>\n",
       "      <td>1.472396</td>\n",
       "      <td>1.131688</td>\n",
       "      <td>0.862072</td>\n",
       "      <td>15.516638</td>\n",
       "      <td>6.188410</td>\n",
       "      <td>380.883059</td>\n",
       "      <td>2.493855</td>\n",
       "      <td>51.955663</td>\n",
       "      <td>0.860560</td>\n",
       "      <td>0.504160</td>\n",
       "      <td>1.500000</td>\n",
       "    </tr>\n",
       "    <tr>\n",
       "      <th>std</th>\n",
       "      <td>12.007143</td>\n",
       "      <td>2.825885</td>\n",
       "      <td>0.627736</td>\n",
       "      <td>0.791340</td>\n",
       "      <td>0.117460</td>\n",
       "      <td>3124.718140</td>\n",
       "      <td>0.499261</td>\n",
       "      <td>0.338168</td>\n",
       "      <td>0.508764</td>\n",
       "      <td>8.412610</td>\n",
       "      <td>2.565498</td>\n",
       "      <td>353.020396</td>\n",
       "      <td>2.649877</td>\n",
       "      <td>108.890295</td>\n",
       "      <td>3.534368</td>\n",
       "      <td>0.971481</td>\n",
       "      <td>0.500024</td>\n",
       "    </tr>\n",
       "    <tr>\n",
       "      <th>min</th>\n",
       "      <td>18.000000</td>\n",
       "      <td>0.000000</td>\n",
       "      <td>0.000000</td>\n",
       "      <td>0.000000</td>\n",
       "      <td>1.000000</td>\n",
       "      <td>-3058.000000</td>\n",
       "      <td>1.000000</td>\n",
       "      <td>1.000000</td>\n",
       "      <td>0.000000</td>\n",
       "      <td>1.000000</td>\n",
       "      <td>1.000000</td>\n",
       "      <td>0.000000</td>\n",
       "      <td>1.000000</td>\n",
       "      <td>-1.000000</td>\n",
       "      <td>0.000000</td>\n",
       "      <td>0.000000</td>\n",
       "      <td>1.000000</td>\n",
       "    </tr>\n",
       "    <tr>\n",
       "      <th>25%</th>\n",
       "      <td>32.000000</td>\n",
       "      <td>2.000000</td>\n",
       "      <td>0.000000</td>\n",
       "      <td>2.000000</td>\n",
       "      <td>1.000000</td>\n",
       "      <td>123.000000</td>\n",
       "      <td>1.000000</td>\n",
       "      <td>1.000000</td>\n",
       "      <td>1.000000</td>\n",
       "      <td>8.000000</td>\n",
       "      <td>5.000000</td>\n",
       "      <td>144.000000</td>\n",
       "      <td>1.000000</td>\n",
       "      <td>-1.000000</td>\n",
       "      <td>0.000000</td>\n",
       "      <td>0.000000</td>\n",
       "      <td>1.000000</td>\n",
       "    </tr>\n",
       "    <tr>\n",
       "      <th>50%</th>\n",
       "      <td>39.000000</td>\n",
       "      <td>4.000000</td>\n",
       "      <td>1.000000</td>\n",
       "      <td>2.000000</td>\n",
       "      <td>1.000000</td>\n",
       "      <td>554.000000</td>\n",
       "      <td>1.000000</td>\n",
       "      <td>1.000000</td>\n",
       "      <td>1.000000</td>\n",
       "      <td>15.000000</td>\n",
       "      <td>6.000000</td>\n",
       "      <td>259.000000</td>\n",
       "      <td>2.000000</td>\n",
       "      <td>-1.000000</td>\n",
       "      <td>0.000000</td>\n",
       "      <td>0.000000</td>\n",
       "      <td>1.500000</td>\n",
       "    </tr>\n",
       "    <tr>\n",
       "      <th>75%</th>\n",
       "      <td>49.000000</td>\n",
       "      <td>6.000000</td>\n",
       "      <td>1.000000</td>\n",
       "      <td>3.000000</td>\n",
       "      <td>1.000000</td>\n",
       "      <td>1707.750000</td>\n",
       "      <td>2.000000</td>\n",
       "      <td>1.000000</td>\n",
       "      <td>1.000000</td>\n",
       "      <td>21.000000</td>\n",
       "      <td>8.000000</td>\n",
       "      <td>515.000000</td>\n",
       "      <td>3.000000</td>\n",
       "      <td>43.750000</td>\n",
       "      <td>1.000000</td>\n",
       "      <td>1.000000</td>\n",
       "      <td>2.000000</td>\n",
       "    </tr>\n",
       "    <tr>\n",
       "      <th>max</th>\n",
       "      <td>95.000000</td>\n",
       "      <td>11.000000</td>\n",
       "      <td>2.000000</td>\n",
       "      <td>3.000000</td>\n",
       "      <td>2.000000</td>\n",
       "      <td>81204.000000</td>\n",
       "      <td>2.000000</td>\n",
       "      <td>2.000000</td>\n",
       "      <td>2.000000</td>\n",
       "      <td>31.000000</td>\n",
       "      <td>12.000000</td>\n",
       "      <td>4918.000000</td>\n",
       "      <td>63.000000</td>\n",
       "      <td>854.000000</td>\n",
       "      <td>275.000000</td>\n",
       "      <td>3.000000</td>\n",
       "      <td>2.000000</td>\n",
       "    </tr>\n",
       "  </tbody>\n",
       "</table>\n",
       "</div>"
      ],
      "text/plain": [
       "                age           job       marital     education       default  \\\n",
       "count  10578.000000  10578.000000  10578.000000  10578.000000  10578.000000   \n",
       "mean      41.189355      4.188788      0.795330      2.104935      1.013991   \n",
       "std       12.007143      2.825885      0.627736      0.791340      0.117460   \n",
       "min       18.000000      0.000000      0.000000      0.000000      1.000000   \n",
       "25%       32.000000      2.000000      0.000000      2.000000      1.000000   \n",
       "50%       39.000000      4.000000      1.000000      2.000000      1.000000   \n",
       "75%       49.000000      6.000000      1.000000      3.000000      1.000000   \n",
       "max       95.000000     11.000000      2.000000      3.000000      2.000000   \n",
       "\n",
       "            balance       housing          loan       contact   day_of_week  \\\n",
       "count  10578.000000  10578.000000  10578.000000  10578.000000  10578.000000   \n",
       "mean    1528.343354      1.472396      1.131688      0.862072     15.516638   \n",
       "std     3124.718140      0.499261      0.338168      0.508764      8.412610   \n",
       "min    -3058.000000      1.000000      1.000000      0.000000      1.000000   \n",
       "25%      123.000000      1.000000      1.000000      1.000000      8.000000   \n",
       "50%      554.000000      1.000000      1.000000      1.000000     15.000000   \n",
       "75%     1707.750000      2.000000      1.000000      1.000000     21.000000   \n",
       "max    81204.000000      2.000000      2.000000      2.000000     31.000000   \n",
       "\n",
       "              month      duration      campaign         pdays      previous  \\\n",
       "count  10578.000000  10578.000000  10578.000000  10578.000000  10578.000000   \n",
       "mean       6.188410    380.883059      2.493855     51.955663      0.860560   \n",
       "std        2.565498    353.020396      2.649877    108.890295      3.534368   \n",
       "min        1.000000      0.000000      1.000000     -1.000000      0.000000   \n",
       "25%        5.000000    144.000000      1.000000     -1.000000      0.000000   \n",
       "50%        6.000000    259.000000      2.000000     -1.000000      0.000000   \n",
       "75%        8.000000    515.000000      3.000000     43.750000      1.000000   \n",
       "max       12.000000   4918.000000     63.000000    854.000000    275.000000   \n",
       "\n",
       "           poutcome             y  \n",
       "count  10578.000000  10578.000000  \n",
       "mean       0.504160      1.500000  \n",
       "std        0.971481      0.500024  \n",
       "min        0.000000      1.000000  \n",
       "25%        0.000000      1.000000  \n",
       "50%        0.000000      1.500000  \n",
       "75%        1.000000      2.000000  \n",
       "max        3.000000      2.000000  "
      ]
     },
     "execution_count": 3,
     "metadata": {},
     "output_type": "execute_result"
    }
   ],
   "source": [
    "display(Markdown(f\"**{'SUMMARY STATISTICS'}**\"))\n",
    "df_bankset.describe()"
   ]
  },
  {
   "cell_type": "markdown",
   "id": "935866bf",
   "metadata": {
    "id": "935866bf"
   },
   "source": [
    "### Calculating correlation between target variable 'y' and other features"
   ]
  },
  {
   "cell_type": "code",
   "execution_count": 4,
   "id": "28a16e92",
   "metadata": {
    "id": "28a16e92"
   },
   "outputs": [],
   "source": [
    "correlation_matrix = np.corrcoef(df_bankset, rowvar=False)"
   ]
  },
  {
   "cell_type": "code",
   "execution_count": 5,
   "id": "b7ab4e1d",
   "metadata": {
    "id": "b7ab4e1d"
   },
   "outputs": [
    {
     "data": {
      "image/png": "[encoded data removed]",
      "text/plain": [
       "<Figure size 640x480 with 2 Axes>"
      ]
     },
     "metadata": {},
     "output_type": "display_data"
    }
   ],
   "source": [
    "sns.heatmap(correlation_matrix, annot=True, fmt=\".2f\", annot_kws={\"size\": 6})\n",
    "plt.title('Heatmap of Correlation Matrix')\n",
    "plt.show()"
   ]
  },
  {
   "cell_type": "markdown",
   "id": "44296796",
   "metadata": {},
   "source": [
    "- We will choose 2 of the 16 features to visualize our models in 2 dimensions. The features that are most correlated with the label are more meaningful information to determine the target. Therefore, we will choose the 2 most correlated features. \n",
    "\n",
    "- When we look at the correlation matrix of dataset. The most correlated features with label are duration (0.44) and poutcome (0.29)."
   ]
  },
  {
   "cell_type": "markdown",
   "id": "01018d00",
   "metadata": {
    "id": "01018d00"
   },
   "source": [
    "# 1.1 Implementing Logistic Regression with most correlated 2 features"
   ]
  },
  {
   "cell_type": "code",
   "execution_count": 6,
   "id": "b8eecf54",
   "metadata": {
    "id": "b8eecf54"
   },
   "outputs": [],
   "source": [
    "# Choose the most correlated features on df and labels\n",
    "\n",
    "X_most_corr = df_bankset[['duration', 'poutcome']]\n",
    "y = df_bankset['y']"
   ]
  },
  {
   "cell_type": "code",
   "execution_count": 7,
   "id": "538aa226",
   "metadata": {
    "id": "538aa226"
   },
   "outputs": [
    {
     "data": {
      "text/markdown": [
       "**Features**"
      ],
      "text/plain": [
       "<IPython.core.display.Markdown object>"
      ]
     },
     "metadata": {},
     "output_type": "display_data"
    },
    {
     "data": {
      "text/html": [
       "<div>\n",
       "<style scoped>\n",
       "    .dataframe tbody tr th:only-of-type {\n",
       "        vertical-align: middle;\n",
       "    }\n",
       "\n",
       "    .dataframe tbody tr th {\n",
       "        vertical-align: top;\n",
       "    }\n",
       "\n",
       "    .dataframe thead th {\n",
       "        text-align: right;\n",
       "    }\n",
       "</style>\n",
       "<table border=\"1\" class=\"dataframe\">\n",
       "  <thead>\n",
       "    <tr style=\"text-align: right;\">\n",
       "      <th></th>\n",
       "      <th>duration</th>\n",
       "      <th>poutcome</th>\n",
       "    </tr>\n",
       "  </thead>\n",
       "  <tbody>\n",
       "    <tr>\n",
       "      <th>0</th>\n",
       "      <td>196</td>\n",
       "      <td>0.0</td>\n",
       "    </tr>\n",
       "    <tr>\n",
       "      <th>1</th>\n",
       "      <td>110</td>\n",
       "      <td>0.0</td>\n",
       "    </tr>\n",
       "    <tr>\n",
       "      <th>2</th>\n",
       "      <td>378</td>\n",
       "      <td>0.0</td>\n",
       "    </tr>\n",
       "    <tr>\n",
       "      <th>3</th>\n",
       "      <td>358</td>\n",
       "      <td>0.0</td>\n",
       "    </tr>\n",
       "    <tr>\n",
       "      <th>4</th>\n",
       "      <td>88</td>\n",
       "      <td>0.0</td>\n",
       "    </tr>\n",
       "    <tr>\n",
       "      <th>...</th>\n",
       "      <td>...</td>\n",
       "      <td>...</td>\n",
       "    </tr>\n",
       "    <tr>\n",
       "      <th>10573</th>\n",
       "      <td>300</td>\n",
       "      <td>1.0</td>\n",
       "    </tr>\n",
       "    <tr>\n",
       "      <th>10574</th>\n",
       "      <td>386</td>\n",
       "      <td>0.0</td>\n",
       "    </tr>\n",
       "    <tr>\n",
       "      <th>10575</th>\n",
       "      <td>977</td>\n",
       "      <td>0.0</td>\n",
       "    </tr>\n",
       "    <tr>\n",
       "      <th>10576</th>\n",
       "      <td>456</td>\n",
       "      <td>0.0</td>\n",
       "    </tr>\n",
       "    <tr>\n",
       "      <th>10577</th>\n",
       "      <td>1127</td>\n",
       "      <td>3.0</td>\n",
       "    </tr>\n",
       "  </tbody>\n",
       "</table>\n",
       "<p>10578 rows × 2 columns</p>\n",
       "</div>"
      ],
      "text/plain": [
       "       duration  poutcome\n",
       "0           196       0.0\n",
       "1           110       0.0\n",
       "2           378       0.0\n",
       "3           358       0.0\n",
       "4            88       0.0\n",
       "...         ...       ...\n",
       "10573       300       1.0\n",
       "10574       386       0.0\n",
       "10575       977       0.0\n",
       "10576       456       0.0\n",
       "10577      1127       3.0\n",
       "\n",
       "[10578 rows x 2 columns]"
      ]
     },
     "metadata": {},
     "output_type": "display_data"
    }
   ],
   "source": [
    "display(Markdown(f\"**{'Features'}**\"), X_most_corr)"
   ]
  },
  {
   "cell_type": "code",
   "execution_count": 8,
   "id": "c26114fb",
   "metadata": {},
   "outputs": [
    {
     "data": {
      "text/markdown": [
       "**Targets**"
      ],
      "text/plain": [
       "<IPython.core.display.Markdown object>"
      ]
     },
     "metadata": {},
     "output_type": "display_data"
    },
    {
     "data": {
      "text/plain": [
       "0        1\n",
       "1        1\n",
       "2        1\n",
       "3        1\n",
       "4        1\n",
       "        ..\n",
       "10573    2\n",
       "10574    2\n",
       "10575    2\n",
       "10576    2\n",
       "10577    2\n",
       "Name: y, Length: 10578, dtype: int64"
      ]
     },
     "metadata": {},
     "output_type": "display_data"
    }
   ],
   "source": [
    "display(Markdown(f\"**{'Targets'}**\"), y)"
   ]
  },
  {
   "cell_type": "code",
   "execution_count": 9,
   "id": "d703d468",
   "metadata": {},
   "outputs": [
    {
     "data": {
      "text/markdown": [
       "**Summary Statistic of Selected Features**"
      ],
      "text/plain": [
       "<IPython.core.display.Markdown object>"
      ]
     },
     "metadata": {},
     "output_type": "display_data"
    },
    {
     "data": {
      "text/html": [
       "<div>\n",
       "<style scoped>\n",
       "    .dataframe tbody tr th:only-of-type {\n",
       "        vertical-align: middle;\n",
       "    }\n",
       "\n",
       "    .dataframe tbody tr th {\n",
       "        vertical-align: top;\n",
       "    }\n",
       "\n",
       "    .dataframe thead th {\n",
       "        text-align: right;\n",
       "    }\n",
       "</style>\n",
       "<table border=\"1\" class=\"dataframe\">\n",
       "  <thead>\n",
       "    <tr style=\"text-align: right;\">\n",
       "      <th></th>\n",
       "      <th>duration</th>\n",
       "      <th>poutcome</th>\n",
       "    </tr>\n",
       "  </thead>\n",
       "  <tbody>\n",
       "    <tr>\n",
       "      <th>0</th>\n",
       "      <td>196</td>\n",
       "      <td>0.0</td>\n",
       "    </tr>\n",
       "    <tr>\n",
       "      <th>1</th>\n",
       "      <td>110</td>\n",
       "      <td>0.0</td>\n",
       "    </tr>\n",
       "    <tr>\n",
       "      <th>2</th>\n",
       "      <td>378</td>\n",
       "      <td>0.0</td>\n",
       "    </tr>\n",
       "    <tr>\n",
       "      <th>3</th>\n",
       "      <td>358</td>\n",
       "      <td>0.0</td>\n",
       "    </tr>\n",
       "    <tr>\n",
       "      <th>4</th>\n",
       "      <td>88</td>\n",
       "      <td>0.0</td>\n",
       "    </tr>\n",
       "    <tr>\n",
       "      <th>...</th>\n",
       "      <td>...</td>\n",
       "      <td>...</td>\n",
       "    </tr>\n",
       "    <tr>\n",
       "      <th>10573</th>\n",
       "      <td>300</td>\n",
       "      <td>1.0</td>\n",
       "    </tr>\n",
       "    <tr>\n",
       "      <th>10574</th>\n",
       "      <td>386</td>\n",
       "      <td>0.0</td>\n",
       "    </tr>\n",
       "    <tr>\n",
       "      <th>10575</th>\n",
       "      <td>977</td>\n",
       "      <td>0.0</td>\n",
       "    </tr>\n",
       "    <tr>\n",
       "      <th>10576</th>\n",
       "      <td>456</td>\n",
       "      <td>0.0</td>\n",
       "    </tr>\n",
       "    <tr>\n",
       "      <th>10577</th>\n",
       "      <td>1127</td>\n",
       "      <td>3.0</td>\n",
       "    </tr>\n",
       "  </tbody>\n",
       "</table>\n",
       "<p>10578 rows × 2 columns</p>\n",
       "</div>"
      ],
      "text/plain": [
       "       duration  poutcome\n",
       "0           196       0.0\n",
       "1           110       0.0\n",
       "2           378       0.0\n",
       "3           358       0.0\n",
       "4            88       0.0\n",
       "...         ...       ...\n",
       "10573       300       1.0\n",
       "10574       386       0.0\n",
       "10575       977       0.0\n",
       "10576       456       0.0\n",
       "10577      1127       3.0\n",
       "\n",
       "[10578 rows x 2 columns]"
      ]
     },
     "metadata": {},
     "output_type": "display_data"
    }
   ],
   "source": [
    "display(Markdown(f\"**{'Summary Statistic of Selected Features'}**\"), X_most_corr)"
   ]
  },
  {
   "cell_type": "code",
   "execution_count": 10,
   "id": "ee000934",
   "metadata": {},
   "outputs": [],
   "source": [
    "# Convert the Dataframe to a Numpy array\n",
    "X_most_corr = np.array(X_most_corr)\n",
    "y = np.array(y)\n",
    "\n",
    "# Change labels\n",
    "y[y == 1] = 0\n",
    "y[y == 2] = 1"
   ]
  },
  {
   "cell_type": "markdown",
   "id": "2c3ad3f7",
   "metadata": {},
   "source": [
    "- In order to perform matrix operations, we convert dataframes into arrays.\n",
    "- To apply the formulas without confusion and to make them easier to understand, we change the positive classes from 2 to 1 and the negative classes from 1 to 0."
   ]
  },
  {
   "cell_type": "markdown",
   "id": "17974142",
   "metadata": {
    "id": "17974142"
   },
   "source": [
    "###  Define logistic regression model as class and necessary functions such as sigmoid, fit, predict"
   ]
  },
  {
   "cell_type": "code",
   "execution_count": 11,
   "id": "cfe78002",
   "metadata": {
    "id": "cdfe614a"
   },
   "outputs": [],
   "source": [
    "class LogisticRegression:\n",
    "    \n",
    "    def sigmoid(self, z):\n",
    "        return 1 / (1 + np.exp(-z))\n",
    "    \n",
    "    def fit(self, X, y):\n",
    "        learning_rate = 0.01\n",
    "        epoch = 50\n",
    "        weights = np.zeros(X.shape[1])\n",
    "        bias = 0\n",
    "        \n",
    "        for i in range(epoch):\n",
    "            for sample_num, sample in enumerate(X):\n",
    "                weighted_sum = np.dot(weights,sample) + bias\n",
    "                probability = self.sigmoid(weighted_sum)\n",
    "                weights = weights - (learning_rate * sample * (probability - y[sample_num]))\n",
    "                bias = bias - (learning_rate * (probability - y[sample_num]))\n",
    "                    \n",
    "        return weights, bias\n",
    "    \n",
    "    def predict(self, X, y, weights, bias):\n",
    "        predictions = []\n",
    "        \n",
    "        for sample_num,sample in enumerate(X):\n",
    "            weighted_sum = np.dot(weights,sample) + bias\n",
    "            probablity = self.sigmoid(weighted_sum)\n",
    "            predicted_target = 1 if probablity >= 0.5 else 0\n",
    "            predictions.append(predicted_target)\n",
    "\n",
    "        return predictions         "
   ]
  },
  {
   "cell_type": "markdown",
   "id": "f5da4b6d",
   "metadata": {
    "id": "f5da4b6d"
   },
   "source": [
    "Split the dataset into a training set and a validation set (80% training and 20% validation)."
   ]
  },
  {
   "cell_type": "code",
   "execution_count": 12,
   "id": "0b122958",
   "metadata": {
    "id": "0b122958"
   },
   "outputs": [],
   "source": [
    "X_train_most_corr, X_test_most_corr, y_train_most_corr, y_test_most_corr = train_test_split(X_most_corr, y, test_size=0.2, random_state=82)"
   ]
  },
  {
   "cell_type": "markdown",
   "id": "0c61aef4",
   "metadata": {},
   "source": [
    "- In order to calculate the accuracy of the model we trained, we separate a portion of our data as test data."
   ]
  },
  {
   "cell_type": "markdown",
   "id": "1c6db271",
   "metadata": {
    "id": "1c6db271"
   },
   "source": [
    "Scale the features using StandardScaler"
   ]
  },
  {
   "cell_type": "code",
   "execution_count": 13,
   "id": "5c413ddd",
   "metadata": {
    "id": "5c413ddd"
   },
   "outputs": [],
   "source": [
    "scaler = StandardScaler()\n",
    "X_train_most_corr = scaler.fit_transform(X_train_most_corr)\n",
    "X_test_most_corr = scaler.transform(X_test_most_corr)"
   ]
  },
  {
   "cell_type": "markdown",
   "id": "4b6d3dc2",
   "metadata": {
    "id": "4b6d3dc2"
   },
   "source": [
    "* Initialize and train the custom logistic regression model"
   ]
  },
  {
   "cell_type": "code",
   "execution_count": 14,
   "id": "6895bee9",
   "metadata": {
    "id": "6895bee9"
   },
   "outputs": [],
   "source": [
    "log_reg = LogisticRegression()\n",
    "log_reg_model_most_corr = log_reg.fit(X_train_most_corr,y_train_most_corr)\n",
    "weights_most_corr = log_reg_model_most_corr[0]\n",
    "bias_most_corr = log_reg_model_most_corr[1]"
   ]
  },
  {
   "cell_type": "markdown",
   "id": "6e491973",
   "metadata": {
    "id": "6e491973"
   },
   "source": [
    "* Make predictions on the validation set"
   ]
  },
  {
   "cell_type": "code",
   "execution_count": 15,
   "id": "fa195e37",
   "metadata": {
    "id": "fa195e37"
   },
   "outputs": [],
   "source": [
    "predictions_most_corr = log_reg.predict(X_test_most_corr, y_test_most_corr, weights_most_corr, bias_most_corr)"
   ]
  },
  {
   "cell_type": "markdown",
   "id": "8bc0def0",
   "metadata": {
    "id": "8bc0def0"
   },
   "source": [
    "### Evaluation of the model's performance, print classification report and confusion matrix"
   ]
  },
  {
   "cell_type": "code",
   "execution_count": 16,
   "id": "3385840b",
   "metadata": {
    "id": "3385840b"
   },
   "outputs": [
    {
     "data": {
      "text/html": [
       "<style type=\"text/css\">\n",
       "#T_c8c8d_row0_col0, #T_c8c8d_row1_col1, #T_c8c8d_row1_col2, #T_c8c8d_row2_col3 {\n",
       "  background-color: #f7fbff;\n",
       "  color: #000000;\n",
       "}\n",
       "#T_c8c8d_row0_col1, #T_c8c8d_row0_col2, #T_c8c8d_row1_col0, #T_c8c8d_row3_col3, #T_c8c8d_row4_col3 {\n",
       "  background-color: #08306b;\n",
       "  color: #f1f1f1;\n",
       "}\n",
       "#T_c8c8d_row0_col3, #T_c8c8d_row2_col1, #T_c8c8d_row4_col1, #T_c8c8d_row4_col2 {\n",
       "  background-color: #66abd4;\n",
       "  color: #f1f1f1;\n",
       "}\n",
       "#T_c8c8d_row1_col3, #T_c8c8d_row4_col0 {\n",
       "  background-color: #71b1d7;\n",
       "  color: #f1f1f1;\n",
       "}\n",
       "#T_c8c8d_row2_col0 {\n",
       "  background-color: #8dc1dd;\n",
       "  color: #000000;\n",
       "}\n",
       "#T_c8c8d_row2_col2 {\n",
       "  background-color: #5ba3d0;\n",
       "  color: #f1f1f1;\n",
       "}\n",
       "#T_c8c8d_row3_col0, #T_c8c8d_row3_col1, #T_c8c8d_row3_col2 {\n",
       "  background-color: #6aaed6;\n",
       "  color: #f1f1f1;\n",
       "}\n",
       "</style>\n",
       "<table id=\"T_c8c8d\">\n",
       "  <caption>Classification Report</caption>\n",
       "  <thead>\n",
       "    <tr>\n",
       "      <th class=\"blank level0\" >&nbsp;</th>\n",
       "      <th id=\"T_c8c8d_level0_col0\" class=\"col_heading level0 col0\" >precision</th>\n",
       "      <th id=\"T_c8c8d_level0_col1\" class=\"col_heading level0 col1\" >recall</th>\n",
       "      <th id=\"T_c8c8d_level0_col2\" class=\"col_heading level0 col2\" >f1-score</th>\n",
       "      <th id=\"T_c8c8d_level0_col3\" class=\"col_heading level0 col3\" >support</th>\n",
       "    </tr>\n",
       "  </thead>\n",
       "  <tbody>\n",
       "    <tr>\n",
       "      <th id=\"T_c8c8d_level0_row0\" class=\"row_heading level0 row0\" >0</th>\n",
       "      <td id=\"T_c8c8d_row0_col0\" class=\"data row0 col0\" >0.744318</td>\n",
       "      <td id=\"T_c8c8d_row0_col1\" class=\"data row0 col1\" >0.845941</td>\n",
       "      <td id=\"T_c8c8d_row0_col2\" class=\"data row0 col2\" >0.791883</td>\n",
       "      <td id=\"T_c8c8d_row0_col3\" class=\"data row0 col3\" >1084.000000</td>\n",
       "    </tr>\n",
       "    <tr>\n",
       "      <th id=\"T_c8c8d_level0_row1\" class=\"row_heading level0 row1\" >1</th>\n",
       "      <td id=\"T_c8c8d_row1_col0\" class=\"data row1 col0\" >0.811086</td>\n",
       "      <td id=\"T_c8c8d_row1_col1\" class=\"data row1 col1\" >0.694767</td>\n",
       "      <td id=\"T_c8c8d_row1_col2\" class=\"data row1 col2\" >0.748434</td>\n",
       "      <td id=\"T_c8c8d_row1_col3\" class=\"data row1 col3\" >1032.000000</td>\n",
       "    </tr>\n",
       "    <tr>\n",
       "      <th id=\"T_c8c8d_level0_row2\" class=\"row_heading level0 row2\" >accuracy</th>\n",
       "      <td id=\"T_c8c8d_row2_col0\" class=\"data row2 col0\" >0.772212</td>\n",
       "      <td id=\"T_c8c8d_row2_col1\" class=\"data row2 col1\" >0.772212</td>\n",
       "      <td id=\"T_c8c8d_row2_col2\" class=\"data row2 col2\" >0.772212</td>\n",
       "      <td id=\"T_c8c8d_row2_col3\" class=\"data row2 col3\" >0.772212</td>\n",
       "    </tr>\n",
       "    <tr>\n",
       "      <th id=\"T_c8c8d_level0_row3\" class=\"row_heading level0 row3\" >macro avg</th>\n",
       "      <td id=\"T_c8c8d_row3_col0\" class=\"data row3 col0\" >0.777702</td>\n",
       "      <td id=\"T_c8c8d_row3_col1\" class=\"data row3 col1\" >0.770354</td>\n",
       "      <td id=\"T_c8c8d_row3_col2\" class=\"data row3 col2\" >0.770158</td>\n",
       "      <td id=\"T_c8c8d_row3_col3\" class=\"data row3 col3\" >2116.000000</td>\n",
       "    </tr>\n",
       "    <tr>\n",
       "      <th id=\"T_c8c8d_level0_row4\" class=\"row_heading level0 row4\" >weighted avg</th>\n",
       "      <td id=\"T_c8c8d_row4_col0\" class=\"data row4 col0\" >0.776882</td>\n",
       "      <td id=\"T_c8c8d_row4_col1\" class=\"data row4 col1\" >0.772212</td>\n",
       "      <td id=\"T_c8c8d_row4_col2\" class=\"data row4 col2\" >0.770692</td>\n",
       "      <td id=\"T_c8c8d_row4_col3\" class=\"data row4 col3\" >2116.000000</td>\n",
       "    </tr>\n",
       "  </tbody>\n",
       "</table>\n"
      ],
      "text/plain": [
       "<pandas.io.formats.style.Styler at 0x1c8e5d3bb80>"
      ]
     },
     "metadata": {},
     "output_type": "display_data"
    }
   ],
   "source": [
    "report_most_corr = classification_report(y_test_most_corr, predictions_most_corr, output_dict=True)\n",
    "report_most_corr_df = pd.DataFrame(report_most_corr).transpose()\n",
    "display(report_most_corr_df.style.background_gradient(cmap=\"Blues\").set_caption(\"Classification Report\"))"
   ]
  },
  {
   "cell_type": "code",
   "execution_count": 17,
   "id": "e9957d98",
   "metadata": {},
   "outputs": [
    {
     "data": {
      "image/png": "[encoded data removed]",
      "text/plain": [
       "<Figure size 600x400 with 2 Axes>"
      ]
     },
     "metadata": {},
     "output_type": "display_data"
    }
   ],
   "source": [
    "conf_matrix_most_corr = confusion_matrix(y_test_most_corr, predictions_most_corr)\n",
    "\n",
    "plt.figure(figsize=(6, 4))\n",
    "sns.heatmap(conf_matrix_most_corr, fmt='d', annot=True, cmap='Reds', xticklabels=['Class 0', 'Class 1'], yticklabels=['Class 0', 'Class 1'])\n",
    "plt.title(\"Confusion Matrix\")\n",
    "plt.xlabel(\"Predicted Labels\")\n",
    "plt.ylabel(\"True Labels\")\n",
    "plt.show()"
   ]
  },
  {
   "cell_type": "markdown",
   "id": "c757cffe",
   "metadata": {},
   "source": [
    "- We see that the classes are distributed evenly in the test data.\n",
    "- Accuracy appears to be 77%. It's a good rate, but it could be higher.\n",
    "- Class 1 recall is at 69%. This shows that the model is a bit lacking in predicting class 1."
   ]
  },
  {
   "cell_type": "markdown",
   "id": "32c81afb",
   "metadata": {
    "id": "32c81afb"
   },
   "source": [
    "### Plot decision boundary"
   ]
  },
  {
   "cell_type": "code",
   "execution_count": 18,
   "id": "f6ca8d96",
   "metadata": {
    "id": "f6ca8d96",
    "scrolled": false
   },
   "outputs": [
    {
     "data": {
      "image/png": "[encoded data removed]",
      "text/plain": [
       "<Figure size 640x480 with 1 Axes>"
      ]
     },
     "metadata": {},
     "output_type": "display_data"
    }
   ],
   "source": [
    "def plot_decision_boundary_of_log_reg(X, y, model, feature_name_1, feature_name_2):\n",
    "    weights = model[0]\n",
    "    bias = model[1]\n",
    "    \n",
    "    x_min = X[:, 0].min() - 0.1\n",
    "    x_max = X[:, 0].max() + 0.1\n",
    "    y_min = X[:, 1].min() - 0.1\n",
    "    y_max = X[:, 1].max() + 0.1\n",
    "    \n",
    "    xx, yy = np.meshgrid(np.arange(x_min, x_max, 0.01),  np.arange(y_min, y_max, 0.01))\n",
    "\n",
    "    Z = np.dot(np.c_[xx.ravel(), yy.ravel()], weights) + bias\n",
    "    Z = np.where(Z >= 0, 1, -1)\n",
    "    Z = Z.reshape(xx.shape)\n",
    "\n",
    "    plt.contourf(xx, yy, Z, alpha=0.5, cmap='coolwarm')\n",
    "    plt.scatter(X[:, 0], X[:, 1], c=y, edgecolors='k', cmap='coolwarm')\n",
    "\n",
    "    plt.xlabel(feature_name_1)\n",
    "    plt.ylabel(feature_name_2)\n",
    "    plt.title('Decision Boundary')\n",
    "    plt.show()\n",
    "    \n",
    "plot_decision_boundary_of_log_reg(X_test_most_corr, y_test_most_corr, log_reg_model_most_corr, \"Duration\", \"Poutcome\")"
   ]
  },
  {
   "cell_type": "markdown",
   "id": "5eb27432",
   "metadata": {},
   "source": [
    "- As we can see in the graph, we see more red dots in the red region and more blue dots in the blue region. But there are also data points on the wrong side of the border"
   ]
  },
  {
   "cell_type": "markdown",
   "id": "87f05f6d",
   "metadata": {
    "id": "87f05f6d"
   },
   "source": [
    "# 1.2 Implementing Logistic Regression using all features"
   ]
  },
  {
   "cell_type": "markdown",
   "id": "c553e35e",
   "metadata": {},
   "source": [
    "### We will train our logistic regression model using all features and evaluate the results."
   ]
  },
  {
   "cell_type": "markdown",
   "id": "840b28cb",
   "metadata": {
    "id": "840b28cb"
   },
   "source": [
    "* Redefine input and target variables. In this experiment, you will use all input features in the dataset."
   ]
  },
  {
   "cell_type": "code",
   "execution_count": 19,
   "id": "547637cc",
   "metadata": {
    "id": "547637cc"
   },
   "outputs": [],
   "source": [
    "X_all = np.array(df_bankset.iloc[:, :-1])\n",
    "# We have y"
   ]
  },
  {
   "cell_type": "markdown",
   "id": "72a6c225",
   "metadata": {
    "id": "72a6c225"
   },
   "source": [
    "* Split the dataset into a training set and a validation set (80% training and 20% validation)."
   ]
  },
  {
   "cell_type": "code",
   "execution_count": 20,
   "id": "76d8fe63",
   "metadata": {
    "id": "76d8fe63"
   },
   "outputs": [],
   "source": [
    "X_train_all, X_test_all, y_train_all, y_test_all = train_test_split(X_all, y, test_size=0.2, random_state=82)"
   ]
  },
  {
   "cell_type": "markdown",
   "id": "a6589282",
   "metadata": {
    "id": "a6589282"
   },
   "source": [
    "* Scale the features using StandardScaler"
   ]
  },
  {
   "cell_type": "code",
   "execution_count": 21,
   "id": "93109ad9",
   "metadata": {
    "id": "93109ad9"
   },
   "outputs": [],
   "source": [
    "scaler = StandardScaler()\n",
    "X_train_all = scaler.fit_transform(X_train_all)\n",
    "X_test_all = scaler.transform(X_test_all)"
   ]
  },
  {
   "cell_type": "markdown",
   "id": "a5dfbd4e",
   "metadata": {
    "id": "a5dfbd4e"
   },
   "source": [
    "### Initialize and train the custom logistic regression model."
   ]
  },
  {
   "cell_type": "code",
   "execution_count": 22,
   "id": "98f3568c",
   "metadata": {
    "id": "98f3568c"
   },
   "outputs": [],
   "source": [
    "log_reg_model_all = log_reg.fit(X_train_all,y_train_all)\n",
    "weights = log_reg_model_all[0]\n",
    "bias = log_reg_model_all[1]"
   ]
  },
  {
   "cell_type": "markdown",
   "id": "98abbaf7",
   "metadata": {
    "id": "98abbaf7"
   },
   "source": [
    "* Make predictions on the validation set"
   ]
  },
  {
   "cell_type": "code",
   "execution_count": 23,
   "id": "6137be71",
   "metadata": {
    "id": "6137be71"
   },
   "outputs": [],
   "source": [
    "predictions_all = log_reg.predict(X_test_all, y_test_all, weights, bias)"
   ]
  },
  {
   "cell_type": "markdown",
   "id": "dd1d97ee",
   "metadata": {
    "id": "dd1d97ee"
   },
   "source": [
    "### Evaluation of the model's performance, print classification report and confusion matrix"
   ]
  },
  {
   "cell_type": "code",
   "execution_count": 24,
   "id": "0cfdf130",
   "metadata": {
    "id": "0cfdf130"
   },
   "outputs": [
    {
     "data": {
      "text/html": [
       "<style type=\"text/css\">\n",
       "#T_099c4_row0_col0, #T_099c4_row1_col1, #T_099c4_row1_col2, #T_099c4_row2_col3 {\n",
       "  background-color: #f7fbff;\n",
       "  color: #000000;\n",
       "}\n",
       "#T_099c4_row0_col1, #T_099c4_row0_col2, #T_099c4_row1_col0, #T_099c4_row3_col3, #T_099c4_row4_col3 {\n",
       "  background-color: #08306b;\n",
       "  color: #f1f1f1;\n",
       "}\n",
       "#T_099c4_row0_col3, #T_099c4_row2_col1, #T_099c4_row4_col1, #T_099c4_row4_col2 {\n",
       "  background-color: #66abd4;\n",
       "  color: #f1f1f1;\n",
       "}\n",
       "#T_099c4_row1_col3, #T_099c4_row4_col0 {\n",
       "  background-color: #71b1d7;\n",
       "  color: #f1f1f1;\n",
       "}\n",
       "#T_099c4_row2_col0 {\n",
       "  background-color: #81badb;\n",
       "  color: #000000;\n",
       "}\n",
       "#T_099c4_row2_col2 {\n",
       "  background-color: #60a7d2;\n",
       "  color: #f1f1f1;\n",
       "}\n",
       "#T_099c4_row3_col0, #T_099c4_row3_col1, #T_099c4_row3_col2 {\n",
       "  background-color: #6aaed6;\n",
       "  color: #f1f1f1;\n",
       "}\n",
       "</style>\n",
       "<table id=\"T_099c4\">\n",
       "  <caption>Classification Report</caption>\n",
       "  <thead>\n",
       "    <tr>\n",
       "      <th class=\"blank level0\" >&nbsp;</th>\n",
       "      <th id=\"T_099c4_level0_col0\" class=\"col_heading level0 col0\" >precision</th>\n",
       "      <th id=\"T_099c4_level0_col1\" class=\"col_heading level0 col1\" >recall</th>\n",
       "      <th id=\"T_099c4_level0_col2\" class=\"col_heading level0 col2\" >f1-score</th>\n",
       "      <th id=\"T_099c4_level0_col3\" class=\"col_heading level0 col3\" >support</th>\n",
       "    </tr>\n",
       "  </thead>\n",
       "  <tbody>\n",
       "    <tr>\n",
       "      <th id=\"T_099c4_level0_row0\" class=\"row_heading level0 row0\" >0</th>\n",
       "      <td id=\"T_099c4_row0_col0\" class=\"data row0 col0\" >0.790102</td>\n",
       "      <td id=\"T_099c4_row0_col1\" class=\"data row0 col1\" >0.854244</td>\n",
       "      <td id=\"T_099c4_row0_col2\" class=\"data row0 col2\" >0.820922</td>\n",
       "      <td id=\"T_099c4_row0_col3\" class=\"data row0 col3\" >1084.000000</td>\n",
       "    </tr>\n",
       "    <tr>\n",
       "      <th id=\"T_099c4_level0_row1\" class=\"row_heading level0 row1\" >1</th>\n",
       "      <td id=\"T_099c4_row1_col0\" class=\"data row1 col0\" >0.832627</td>\n",
       "      <td id=\"T_099c4_row1_col1\" class=\"data row1 col1\" >0.761628</td>\n",
       "      <td id=\"T_099c4_row1_col2\" class=\"data row1 col2\" >0.795547</td>\n",
       "      <td id=\"T_099c4_row1_col3\" class=\"data row1 col3\" >1032.000000</td>\n",
       "    </tr>\n",
       "    <tr>\n",
       "      <th id=\"T_099c4_level0_row2\" class=\"row_heading level0 row2\" >accuracy</th>\n",
       "      <td id=\"T_099c4_row2_col0\" class=\"data row2 col0\" >0.809074</td>\n",
       "      <td id=\"T_099c4_row2_col1\" class=\"data row2 col1\" >0.809074</td>\n",
       "      <td id=\"T_099c4_row2_col2\" class=\"data row2 col2\" >0.809074</td>\n",
       "      <td id=\"T_099c4_row2_col3\" class=\"data row2 col3\" >0.809074</td>\n",
       "    </tr>\n",
       "    <tr>\n",
       "      <th id=\"T_099c4_level0_row3\" class=\"row_heading level0 row3\" >macro avg</th>\n",
       "      <td id=\"T_099c4_row3_col0\" class=\"data row3 col0\" >0.811365</td>\n",
       "      <td id=\"T_099c4_row3_col1\" class=\"data row3 col1\" >0.807936</td>\n",
       "      <td id=\"T_099c4_row3_col2\" class=\"data row3 col2\" >0.808234</td>\n",
       "      <td id=\"T_099c4_row3_col3\" class=\"data row3 col3\" >2116.000000</td>\n",
       "    </tr>\n",
       "    <tr>\n",
       "      <th id=\"T_099c4_level0_row4\" class=\"row_heading level0 row4\" >weighted avg</th>\n",
       "      <td id=\"T_099c4_row4_col0\" class=\"data row4 col0\" >0.810842</td>\n",
       "      <td id=\"T_099c4_row4_col1\" class=\"data row4 col1\" >0.809074</td>\n",
       "      <td id=\"T_099c4_row4_col2\" class=\"data row4 col2\" >0.808546</td>\n",
       "      <td id=\"T_099c4_row4_col3\" class=\"data row4 col3\" >2116.000000</td>\n",
       "    </tr>\n",
       "  </tbody>\n",
       "</table>\n"
      ],
      "text/plain": [
       "<pandas.io.formats.style.Styler at 0x1c8e5ee2cd0>"
      ]
     },
     "metadata": {},
     "output_type": "display_data"
    }
   ],
   "source": [
    "report_all = classification_report(y_test_all, predictions_all, output_dict=True)\n",
    "report_all_df = pd.DataFrame(report_all).transpose()\n",
    "display(report_all_df.style.background_gradient(cmap=\"Blues\").set_caption(\"Classification Report\"))"
   ]
  },
  {
   "cell_type": "code",
   "execution_count": 25,
   "id": "85daf006",
   "metadata": {},
   "outputs": [
    {
     "data": {
      "image/png": "[encoded data removed]",
      "text/plain": [
       "<Figure size 600x400 with 2 Axes>"
      ]
     },
     "metadata": {},
     "output_type": "display_data"
    }
   ],
   "source": [
    "conf_matrix_all = confusion_matrix(y_test_all, predictions_all)\n",
    "\n",
    "plt.figure(figsize=(6, 4))\n",
    "sns.heatmap(conf_matrix_all, annot=True, fmt='d', cmap='Reds', xticklabels=['Class 0', 'Class 1'], yticklabels=['Class 0', 'Class 1'])\n",
    "plt.title(\"Confusion Matrix\")\n",
    "plt.xlabel(\"Predicted Labels\")\n",
    "plt.ylabel(\"True Labels\")\n",
    "plt.show()"
   ]
  },
  {
   "cell_type": "markdown",
   "id": "6f6c21ee",
   "metadata": {},
   "source": [
    "- When we used all the features, the accuracy increased to 81%. Since it did not increase much, we can say that the other 14 features did not have much effect on the label.\n",
    "- When we used all the features, the accuracy increased to 81%. Since it did not increase much, we can say that the other 14 features do not have much effect on the label. The reason for this is that they are not very related to the label, and we can see this from the correlation matrix."
   ]
  },
  {
   "cell_type": "markdown",
   "id": "f5a427a2",
   "metadata": {
    "id": "fd9abae1"
   },
   "source": [
    "# 2. Support Vector Machine"
   ]
  },
  {
   "cell_type": "markdown",
   "id": "86dbe444",
   "metadata": {
    "id": "86dbe444"
   },
   "source": [
    "- We will train a different model using the SVM algorithm and evaluate the results."
   ]
  },
  {
   "cell_type": "markdown",
   "id": "a4940b6f",
   "metadata": {
    "id": "a4940b6f"
   },
   "source": [
    "## 2.1 Implementing svm with grid search cv using all features"
   ]
  },
  {
   "cell_type": "markdown",
   "id": "160ed67b",
   "metadata": {
    "id": "160ed67b"
   },
   "source": [
    "* Define features and target variable, you will use all features of dataset in this task"
   ]
  },
  {
   "cell_type": "code",
   "execution_count": 26,
   "id": "f7391632",
   "metadata": {
    "id": "f7391632"
   },
   "outputs": [],
   "source": [
    "# We have X_all, y"
   ]
  },
  {
   "cell_type": "markdown",
   "id": "9f7d473e",
   "metadata": {
    "id": "9f7d473e"
   },
   "source": [
    "* Split the dataset into a training set and a validation set (80% training and 20% validation)."
   ]
  },
  {
   "cell_type": "code",
   "execution_count": 27,
   "id": "a201b18c",
   "metadata": {
    "id": "a201b18c"
   },
   "outputs": [],
   "source": [
    "# We have X_train_all, y_train_all, X_test_all, y_test_all "
   ]
  },
  {
   "cell_type": "markdown",
   "id": "26f4c78d",
   "metadata": {
    "id": "26f4c78d"
   },
   "source": [
    "* Scale the features using StandardScaler"
   ]
  },
  {
   "cell_type": "code",
   "execution_count": 28,
   "id": "612b42e5",
   "metadata": {
    "id": "612b42e5"
   },
   "outputs": [],
   "source": [
    "# We have X_train_all, y_train_all, X_test_all, y_test_all "
   ]
  },
  {
   "cell_type": "markdown",
   "id": "8e57eb8c",
   "metadata": {
    "id": "8e57eb8c"
   },
   "source": [
    "#### Implement GridSearchCV "
   ]
  },
  {
   "cell_type": "markdown",
   "id": "38b151bd",
   "metadata": {},
   "source": [
    "- We will use GridsearchCV to find the best hyperparameters for the model. GridSearchCV tries all combinations and returns the parameter set that gives the highest accuracy."
   ]
  },
  {
   "cell_type": "markdown",
   "id": "5a07b345",
   "metadata": {},
   "source": [
    "- The C parameter determines how much the errors will be penalized. If it is high, the margin will be low but the error will be low. If it is low, the opposite will be true.\n",
    "- The kernel, on the other hand, allows us to separate data more easily by moving data that is not linearly separable to a higher dimension."
   ]
  },
  {
   "cell_type": "code",
   "execution_count": 29,
   "id": "d5cf29db",
   "metadata": {
    "id": "d5cf29db"
   },
   "outputs": [],
   "source": [
    "parameters = {'C': [0.1, 1, 10],\n",
    "              'kernel': ['linear', 'rbf', 'poly']}"
   ]
  },
  {
   "cell_type": "markdown",
   "id": "25b85237",
   "metadata": {
    "id": "25b85237"
   },
   "source": [
    "* Initialize the SVM classifier"
   ]
  },
  {
   "cell_type": "code",
   "execution_count": 30,
   "id": "7c3debb3",
   "metadata": {
    "id": "7c3debb3"
   },
   "outputs": [],
   "source": [
    "svm_model_all = SVC()\n",
    "grid_search = GridSearchCV(estimator=svm_model_all, param_grid=parameters, cv=5, scoring='accuracy', verbose=3)"
   ]
  },
  {
   "cell_type": "markdown",
   "id": "7e70a364",
   "metadata": {
    "id": "7e70a364"
   },
   "source": [
    "* Train the SVM classifier with the best parameters found from grid search\n"
   ]
  },
  {
   "cell_type": "code",
   "execution_count": 31,
   "id": "0b270ca2",
   "metadata": {
    "id": "0b270ca2",
    "scrolled": true
   },
   "outputs": [
    {
     "name": "stdout",
     "output_type": "stream",
     "text": [
      "Fitting 5 folds for each of 9 candidates, totalling 45 fits\n",
      "[CV 1/5] END ..............C=0.1, kernel=linear;, score=0.796 total time=   2.7s\n",
      "[CV 2/5] END ..............C=0.1, kernel=linear;, score=0.813 total time=   2.6s\n",
      "[CV 3/5] END ..............C=0.1, kernel=linear;, score=0.788 total time=   2.1s\n",
      "[CV 4/5] END ..............C=0.1, kernel=linear;, score=0.788 total time=   2.6s\n",
      "[CV 5/5] END ..............C=0.1, kernel=linear;, score=0.803 total time=   2.5s\n",
      "[CV 1/5] END .................C=0.1, kernel=rbf;, score=0.814 total time=   3.5s\n",
      "[CV 2/5] END .................C=0.1, kernel=rbf;, score=0.817 total time=   3.6s\n",
      "[CV 3/5] END .................C=0.1, kernel=rbf;, score=0.803 total time=   3.7s\n",
      "[CV 4/5] END .................C=0.1, kernel=rbf;, score=0.807 total time=   3.5s\n",
      "[CV 5/5] END .................C=0.1, kernel=rbf;, score=0.815 total time=   3.5s\n",
      "[CV 1/5] END ................C=0.1, kernel=poly;, score=0.801 total time=   3.0s\n",
      "[CV 2/5] END ................C=0.1, kernel=poly;, score=0.794 total time=   2.6s\n",
      "[CV 3/5] END ................C=0.1, kernel=poly;, score=0.783 total time=   2.6s\n",
      "[CV 4/5] END ................C=0.1, kernel=poly;, score=0.776 total time=   2.5s\n",
      "[CV 5/5] END ................C=0.1, kernel=poly;, score=0.793 total time=   2.6s\n",
      "[CV 1/5] END ................C=1, kernel=linear;, score=0.796 total time=   4.1s\n",
      "[CV 2/5] END ................C=1, kernel=linear;, score=0.812 total time=   4.2s\n",
      "[CV 3/5] END ................C=1, kernel=linear;, score=0.787 total time=   3.9s\n",
      "[CV 4/5] END ................C=1, kernel=linear;, score=0.790 total time=   4.3s\n",
      "[CV 5/5] END ................C=1, kernel=linear;, score=0.802 total time=   3.8s\n",
      "[CV 1/5] END ...................C=1, kernel=rbf;, score=0.817 total time=   3.0s\n",
      "[CV 2/5] END ...................C=1, kernel=rbf;, score=0.823 total time=   3.0s\n",
      "[CV 3/5] END ...................C=1, kernel=rbf;, score=0.827 total time=   2.8s\n",
      "[CV 4/5] END ...................C=1, kernel=rbf;, score=0.815 total time=   2.9s\n",
      "[CV 5/5] END ...................C=1, kernel=rbf;, score=0.829 total time=   3.0s\n",
      "[CV 1/5] END ..................C=1, kernel=poly;, score=0.817 total time=   2.4s\n",
      "[CV 2/5] END ..................C=1, kernel=poly;, score=0.817 total time=   2.5s\n",
      "[CV 3/5] END ..................C=1, kernel=poly;, score=0.813 total time=   2.6s\n",
      "[CV 4/5] END ..................C=1, kernel=poly;, score=0.803 total time=   2.4s\n",
      "[CV 5/5] END ..................C=1, kernel=poly;, score=0.810 total time=   2.7s\n",
      "[CV 1/5] END ...............C=10, kernel=linear;, score=0.796 total time=  14.4s\n",
      "[CV 2/5] END ...............C=10, kernel=linear;, score=0.812 total time=  13.1s\n",
      "[CV 3/5] END ...............C=10, kernel=linear;, score=0.787 total time=  12.9s\n",
      "[CV 4/5] END ...............C=10, kernel=linear;, score=0.790 total time=  14.4s\n",
      "[CV 5/5] END ...............C=10, kernel=linear;, score=0.802 total time=  16.2s\n",
      "[CV 1/5] END ..................C=10, kernel=rbf;, score=0.825 total time=   3.8s\n",
      "[CV 2/5] END ..................C=10, kernel=rbf;, score=0.829 total time=   3.8s\n",
      "[CV 3/5] END ..................C=10, kernel=rbf;, score=0.824 total time=   3.5s\n",
      "[CV 4/5] END ..................C=10, kernel=rbf;, score=0.822 total time=   3.7s\n",
      "[CV 5/5] END ..................C=10, kernel=rbf;, score=0.822 total time=   3.6s\n",
      "[CV 1/5] END .................C=10, kernel=poly;, score=0.815 total time=   4.3s\n",
      "[CV 2/5] END .................C=10, kernel=poly;, score=0.820 total time=   4.2s\n",
      "[CV 3/5] END .................C=10, kernel=poly;, score=0.814 total time=   5.2s\n",
      "[CV 4/5] END .................C=10, kernel=poly;, score=0.803 total time=   5.5s\n",
      "[CV 5/5] END .................C=10, kernel=poly;, score=0.818 total time=   5.1s\n"
     ]
    },
    {
     "data": {
      "text/plain": [
       "GridSearchCV(cv=5, estimator=SVC(),\n",
       "             param_grid={'C': [0.1, 1, 10],\n",
       "                         'kernel': ['linear', 'rbf', 'poly']},\n",
       "             scoring='accuracy', verbose=3)"
      ]
     },
     "execution_count": 31,
     "metadata": {},
     "output_type": "execute_result"
    }
   ],
   "source": [
    "grid_search.fit(X_train_all, y_train_all)"
   ]
  },
  {
   "cell_type": "markdown",
   "id": "cf0470de",
   "metadata": {},
   "source": [
    "- Since the calculation takes a long time when the C value is greater than 10 and especially when tried with the linear kernel, we tried to set C to a maximum of 10."
   ]
  },
  {
   "cell_type": "code",
   "execution_count": 32,
   "id": "d3caf950",
   "metadata": {},
   "outputs": [
    {
     "data": {
      "text/plain": [
       "{'C': 10, 'kernel': 'rbf'}"
      ]
     },
     "execution_count": 32,
     "metadata": {},
     "output_type": "execute_result"
    }
   ],
   "source": [
    "grid_search.best_params_"
   ]
  },
  {
   "cell_type": "markdown",
   "id": "71371156",
   "metadata": {},
   "source": [
    "- We found that we could get the highest accuracy when we set the C value to 10 and specified the kernel as a radial basis function."
   ]
  },
  {
   "cell_type": "code",
   "execution_count": 33,
   "id": "23648ef7",
   "metadata": {},
   "outputs": [
    {
     "data": {
      "text/plain": [
       "0.8241544588410911"
      ]
     },
     "execution_count": 33,
     "metadata": {},
     "output_type": "execute_result"
    }
   ],
   "source": [
    "grid_search.best_score_"
   ]
  },
  {
   "cell_type": "markdown",
   "id": "8ad83144",
   "metadata": {},
   "source": [
    "- We will repeat the search using values of C around 10 to see if there is a slightly more optimal value."
   ]
  },
  {
   "cell_type": "code",
   "execution_count": 34,
   "id": "8feb8cb1",
   "metadata": {},
   "outputs": [
    {
     "name": "stdout",
     "output_type": "stream",
     "text": [
      "Fitting 5 folds for each of 5 candidates, totalling 25 fits\n",
      "[CV 1/5] END ...................C=6, kernel=rbf;, score=0.825 total time=   3.7s\n",
      "[CV 2/5] END ...................C=6, kernel=rbf;, score=0.829 total time=   3.3s\n",
      "[CV 3/5] END ...................C=6, kernel=rbf;, score=0.825 total time=   3.3s\n",
      "[CV 4/5] END ...................C=6, kernel=rbf;, score=0.820 total time=   3.3s\n",
      "[CV 5/5] END ...................C=6, kernel=rbf;, score=0.829 total time=   3.4s\n",
      "[CV 1/5] END ...................C=8, kernel=rbf;, score=0.826 total time=   3.5s\n",
      "[CV 2/5] END ...................C=8, kernel=rbf;, score=0.829 total time=   3.5s\n",
      "[CV 3/5] END ...................C=8, kernel=rbf;, score=0.824 total time=   3.5s\n",
      "[CV 4/5] END ...................C=8, kernel=rbf;, score=0.822 total time=   3.4s\n",
      "[CV 5/5] END ...................C=8, kernel=rbf;, score=0.823 total time=   3.7s\n",
      "[CV 1/5] END ..................C=10, kernel=rbf;, score=0.825 total time=   3.6s\n",
      "[CV 2/5] END ..................C=10, kernel=rbf;, score=0.829 total time=   3.7s\n",
      "[CV 3/5] END ..................C=10, kernel=rbf;, score=0.824 total time=   3.7s\n",
      "[CV 4/5] END ..................C=10, kernel=rbf;, score=0.822 total time=   3.5s\n",
      "[CV 5/5] END ..................C=10, kernel=rbf;, score=0.822 total time=   3.6s\n",
      "[CV 1/5] END ..................C=12, kernel=rbf;, score=0.822 total time=   3.9s\n",
      "[CV 2/5] END ..................C=12, kernel=rbf;, score=0.829 total time=   4.1s\n",
      "[CV 3/5] END ..................C=12, kernel=rbf;, score=0.820 total time=   4.1s\n",
      "[CV 4/5] END ..................C=12, kernel=rbf;, score=0.820 total time=   3.6s\n",
      "[CV 5/5] END ..................C=12, kernel=rbf;, score=0.819 total time=   3.5s\n",
      "[CV 1/5] END ..................C=14, kernel=rbf;, score=0.823 total time=   3.9s\n",
      "[CV 2/5] END ..................C=14, kernel=rbf;, score=0.829 total time=   4.1s\n",
      "[CV 3/5] END ..................C=14, kernel=rbf;, score=0.816 total time=   3.9s\n",
      "[CV 4/5] END ..................C=14, kernel=rbf;, score=0.820 total time=   3.9s\n",
      "[CV 5/5] END ..................C=14, kernel=rbf;, score=0.814 total time=   3.9s\n"
     ]
    },
    {
     "data": {
      "text/plain": [
       "GridSearchCV(cv=5, estimator=SVC(),\n",
       "             param_grid={'C': [6, 8, 10, 12, 14], 'kernel': ['rbf']},\n",
       "             scoring='accuracy', verbose=3)"
      ]
     },
     "execution_count": 34,
     "metadata": {},
     "output_type": "execute_result"
    }
   ],
   "source": [
    "parameters = {'C': [6,8,10,12,14],\n",
    "              'kernel': ['rbf']}\n",
    "grid_search = GridSearchCV(estimator=svm_model_all, param_grid=parameters, cv=5, scoring='accuracy', verbose=3)\n",
    "grid_search.fit(X_train_all, y_train_all)"
   ]
  },
  {
   "cell_type": "code",
   "execution_count": 35,
   "id": "c0f165c6",
   "metadata": {},
   "outputs": [
    {
     "data": {
      "text/plain": [
       "{'C': 6, 'kernel': 'rbf'}"
      ]
     },
     "execution_count": 35,
     "metadata": {},
     "output_type": "execute_result"
    }
   ],
   "source": [
    "grid_search.best_params_"
   ]
  },
  {
   "cell_type": "code",
   "execution_count": 36,
   "id": "8a7c3fa4",
   "metadata": {},
   "outputs": [
    {
     "data": {
      "text/plain": [
       "0.8255728985574029"
      ]
     },
     "execution_count": 36,
     "metadata": {},
     "output_type": "execute_result"
    }
   ],
   "source": [
    "grid_search.best_score_"
   ]
  },
  {
   "cell_type": "markdown",
   "id": "3b035a6d",
   "metadata": {},
   "source": [
    "- For the most optimal case, we decide that the C value should be 6 and the kernel should be RBF. In this case, the accuracy value increases to %82.55."
   ]
  },
  {
   "cell_type": "code",
   "execution_count": 37,
   "id": "afd92dc1",
   "metadata": {},
   "outputs": [
    {
     "name": "stdout",
     "output_type": "stream",
     "text": [
      "                       params  mean_test_score\n",
      "0   {'C': 6, 'kernel': 'rbf'}         0.825573\n",
      "1   {'C': 8, 'kernel': 'rbf'}         0.824745\n",
      "2  {'C': 10, 'kernel': 'rbf'}         0.824154\n",
      "3  {'C': 12, 'kernel': 'rbf'}         0.822027\n",
      "4  {'C': 14, 'kernel': 'rbf'}         0.820608\n"
     ]
    }
   ],
   "source": [
    "results = pd.DataFrame(grid_search.cv_results_) # Result of other combinations\n",
    "print(results[['params', 'mean_test_score']])"
   ]
  },
  {
   "cell_type": "markdown",
   "id": "043ef2b1",
   "metadata": {
    "id": "043ef2b1"
   },
   "source": [
    "* Make predictions on the validation set using the best model\n"
   ]
  },
  {
   "cell_type": "code",
   "execution_count": 38,
   "id": "bb37dece",
   "metadata": {
    "id": "bb37dece"
   },
   "outputs": [
    {
     "data": {
      "text/plain": [
       "0.8431001890359168"
      ]
     },
     "execution_count": 38,
     "metadata": {},
     "output_type": "execute_result"
    }
   ],
   "source": [
    "best_model = grid_search.best_estimator_\n",
    "y_pred_all = best_model.predict(X_test_all)\n",
    "accuracy_score(y_test_all, y_pred_all)"
   ]
  },
  {
   "cell_type": "markdown",
   "id": "d19bcbfe",
   "metadata": {
    "id": "d19bcbfe"
   },
   "source": [
    "#### Evaluation of the model's performance, print classification report and confusion matrix and best parameters found from GridSearchCV"
   ]
  },
  {
   "cell_type": "code",
   "execution_count": 39,
   "id": "f2911e30",
   "metadata": {
    "id": "f2911e30"
   },
   "outputs": [
    {
     "data": {
      "text/html": [
       "<style type=\"text/css\">\n",
       "#T_d5d50_row0_col0, #T_d5d50_row1_col1, #T_d5d50_row1_col2, #T_d5d50_row3_col3, #T_d5d50_row4_col3 {\n",
       "  background-color: #08306b;\n",
       "  color: #f1f1f1;\n",
       "}\n",
       "#T_d5d50_row0_col1, #T_d5d50_row0_col2, #T_d5d50_row1_col0, #T_d5d50_row2_col3 {\n",
       "  background-color: #f7fbff;\n",
       "  color: #000000;\n",
       "}\n",
       "#T_d5d50_row0_col3, #T_d5d50_row4_col0 {\n",
       "  background-color: #66abd4;\n",
       "  color: #f1f1f1;\n",
       "}\n",
       "#T_d5d50_row1_col3, #T_d5d50_row2_col1, #T_d5d50_row4_col1, #T_d5d50_row4_col2 {\n",
       "  background-color: #71b1d7;\n",
       "  color: #f1f1f1;\n",
       "}\n",
       "#T_d5d50_row2_col0 {\n",
       "  background-color: #74b3d8;\n",
       "  color: #000000;\n",
       "}\n",
       "#T_d5d50_row2_col2 {\n",
       "  background-color: #69add5;\n",
       "  color: #f1f1f1;\n",
       "}\n",
       "#T_d5d50_row3_col0, #T_d5d50_row3_col1, #T_d5d50_row3_col2 {\n",
       "  background-color: #6aaed6;\n",
       "  color: #f1f1f1;\n",
       "}\n",
       "</style>\n",
       "<table id=\"T_d5d50\">\n",
       "  <caption>Classification Report</caption>\n",
       "  <thead>\n",
       "    <tr>\n",
       "      <th class=\"blank level0\" >&nbsp;</th>\n",
       "      <th id=\"T_d5d50_level0_col0\" class=\"col_heading level0 col0\" >precision</th>\n",
       "      <th id=\"T_d5d50_level0_col1\" class=\"col_heading level0 col1\" >recall</th>\n",
       "      <th id=\"T_d5d50_level0_col2\" class=\"col_heading level0 col2\" >f1-score</th>\n",
       "      <th id=\"T_d5d50_level0_col3\" class=\"col_heading level0 col3\" >support</th>\n",
       "    </tr>\n",
       "  </thead>\n",
       "  <tbody>\n",
       "    <tr>\n",
       "      <th id=\"T_d5d50_level0_row0\" class=\"row_heading level0 row0\" >0</th>\n",
       "      <td id=\"T_d5d50_row0_col0\" class=\"data row0 col0\" >0.870809</td>\n",
       "      <td id=\"T_d5d50_row0_col1\" class=\"data row0 col1\" >0.814576</td>\n",
       "      <td id=\"T_d5d50_row0_col2\" class=\"data row0 col2\" >0.841754</td>\n",
       "      <td id=\"T_d5d50_row0_col3\" class=\"data row0 col3\" >1084.000000</td>\n",
       "    </tr>\n",
       "    <tr>\n",
       "      <th id=\"T_d5d50_level0_row1\" class=\"row_heading level0 row1\" >1</th>\n",
       "      <td id=\"T_d5d50_row1_col0\" class=\"data row1 col0\" >0.817604</td>\n",
       "      <td id=\"T_d5d50_row1_col1\" class=\"data row1 col1\" >0.873062</td>\n",
       "      <td id=\"T_d5d50_row1_col2\" class=\"data row1 col2\" >0.844424</td>\n",
       "      <td id=\"T_d5d50_row1_col3\" class=\"data row1 col3\" >1032.000000</td>\n",
       "    </tr>\n",
       "    <tr>\n",
       "      <th id=\"T_d5d50_level0_row2\" class=\"row_heading level0 row2\" >accuracy</th>\n",
       "      <td id=\"T_d5d50_row2_col0\" class=\"data row2 col0\" >0.843100</td>\n",
       "      <td id=\"T_d5d50_row2_col1\" class=\"data row2 col1\" >0.843100</td>\n",
       "      <td id=\"T_d5d50_row2_col2\" class=\"data row2 col2\" >0.843100</td>\n",
       "      <td id=\"T_d5d50_row2_col3\" class=\"data row2 col3\" >0.843100</td>\n",
       "    </tr>\n",
       "    <tr>\n",
       "      <th id=\"T_d5d50_level0_row3\" class=\"row_heading level0 row3\" >macro avg</th>\n",
       "      <td id=\"T_d5d50_row3_col0\" class=\"data row3 col0\" >0.844207</td>\n",
       "      <td id=\"T_d5d50_row3_col1\" class=\"data row3 col1\" >0.843819</td>\n",
       "      <td id=\"T_d5d50_row3_col2\" class=\"data row3 col2\" >0.843089</td>\n",
       "      <td id=\"T_d5d50_row3_col3\" class=\"data row3 col3\" >2116.000000</td>\n",
       "    </tr>\n",
       "    <tr>\n",
       "      <th id=\"T_d5d50_level0_row4\" class=\"row_heading level0 row4\" >weighted avg</th>\n",
       "      <td id=\"T_d5d50_row4_col0\" class=\"data row4 col0\" >0.844860</td>\n",
       "      <td id=\"T_d5d50_row4_col1\" class=\"data row4 col1\" >0.843100</td>\n",
       "      <td id=\"T_d5d50_row4_col2\" class=\"data row4 col2\" >0.843056</td>\n",
       "      <td id=\"T_d5d50_row4_col3\" class=\"data row4 col3\" >2116.000000</td>\n",
       "    </tr>\n",
       "  </tbody>\n",
       "</table>\n"
      ],
      "text/plain": [
       "<pandas.io.formats.style.Styler at 0x1c8e2fc5fd0>"
      ]
     },
     "metadata": {},
     "output_type": "display_data"
    }
   ],
   "source": [
    "report_svm_all = classification_report(y_test_all, y_pred_all, output_dict=True)\n",
    "report_svm_all_df = pd.DataFrame(report_svm_all).transpose()\n",
    "display(report_svm_all_df.style.background_gradient(cmap=\"Blues\").set_caption(\"Classification Report\"))"
   ]
  },
  {
   "cell_type": "code",
   "execution_count": 40,
   "id": "bf46ed5a",
   "metadata": {},
   "outputs": [
    {
     "data": {
      "image/png": "[encoded data removed]",
      "text/plain": [
       "<Figure size 600x400 with 2 Axes>"
      ]
     },
     "metadata": {},
     "output_type": "display_data"
    }
   ],
   "source": [
    "conf_matrix_svm_all = confusion_matrix(y_test_all, y_pred_all)\n",
    "\n",
    "plt.figure(figsize=(6, 4))\n",
    "sns.heatmap(conf_matrix_svm_all, annot=True, fmt='d', cmap='Reds', xticklabels=['Class 0', 'Class 1'], yticklabels=['Class 0', 'Class 1'])\n",
    "plt.title(\"Confusion Matrix\")\n",
    "plt.xlabel(\"Predicted Labels\")\n",
    "plt.ylabel(\"True Labels\")\n",
    "plt.show()"
   ]
  },
  {
   "cell_type": "markdown",
   "id": "cbbc81c1",
   "metadata": {},
   "source": [
    "- When we use the svm model using all the features, we see that the accuracy increases by 3% compared to logistic regression. Although there is no big difference, we can say that svm is a more suitable model for this dataset.\n",
    "\n",
    "- Importantly, logistic regression had some weakness in predicting positive classes. However, we see that in SVM, both classes were predicted equally accurately."
   ]
  },
  {
   "cell_type": "markdown",
   "id": "3e8aea2d",
   "metadata": {
    "id": "3e8aea2d"
   },
   "source": [
    "## 2.2 Implementing svm with most correlated 2 features"
   ]
  },
  {
   "cell_type": "markdown",
   "id": "dcbbd29c",
   "metadata": {
    "id": "dcbbd29c"
   },
   "source": [
    "#### Choose the two most correlated features with target feature 'y'"
   ]
  },
  {
   "cell_type": "code",
   "execution_count": 41,
   "id": "d61a8dd4",
   "metadata": {
    "id": "d61a8dd4"
   },
   "outputs": [],
   "source": [
    "# We have X_most_corr"
   ]
  },
  {
   "cell_type": "markdown",
   "id": "7afcf69e",
   "metadata": {
    "id": "7afcf69e"
   },
   "source": [
    "* Split the dataset into a training set and a validation set (80% training and 20% validation)."
   ]
  },
  {
   "cell_type": "code",
   "execution_count": 42,
   "id": "9b6a7618",
   "metadata": {
    "id": "9b6a7618"
   },
   "outputs": [],
   "source": [
    "# We have X_train_most_corr, y_train_most_corr, X_test_most_corr, y_test_most_corr"
   ]
  },
  {
   "cell_type": "markdown",
   "id": "342f531b",
   "metadata": {
    "id": "342f531b"
   },
   "source": [
    "* Scale the features using StandardScaler"
   ]
  },
  {
   "cell_type": "code",
   "execution_count": 43,
   "id": "e8d45eb1",
   "metadata": {
    "id": "e8d45eb1"
   },
   "outputs": [],
   "source": [
    "# We have X_train_most_corr, y_train_most_corr"
   ]
  },
  {
   "cell_type": "markdown",
   "id": "107e780b",
   "metadata": {
    "id": "107e780b"
   },
   "source": [
    "*  Initialize the SVM classifier, assign 'C' and 'kernel' parameters from the best hyperparameters you found from GridSearchCV"
   ]
  },
  {
   "cell_type": "code",
   "execution_count": 44,
   "id": "f82db6aa",
   "metadata": {
    "id": "f82db6aa"
   },
   "outputs": [],
   "source": [
    "best_params = grid_search.best_params_\n",
    "svm_model_most_corr = SVC(C=best_params['C'], kernel=best_params['kernel'])"
   ]
  },
  {
   "cell_type": "markdown",
   "id": "20c779c4",
   "metadata": {
    "id": "20c779c4"
   },
   "source": [
    "* Train the SVM classifier"
   ]
  },
  {
   "cell_type": "code",
   "execution_count": 45,
   "id": "f8afea57",
   "metadata": {
    "id": "f8afea57"
   },
   "outputs": [
    {
     "data": {
      "text/plain": [
       "SVC(C=6)"
      ]
     },
     "execution_count": 45,
     "metadata": {},
     "output_type": "execute_result"
    }
   ],
   "source": [
    "svm_model_most_corr.fit(X_train_most_corr, y_train_most_corr)"
   ]
  },
  {
   "cell_type": "markdown",
   "id": "6d78c0c6",
   "metadata": {
    "id": "6d78c0c6"
   },
   "source": [
    "* Make predictions on the validation set"
   ]
  },
  {
   "cell_type": "code",
   "execution_count": 46,
   "id": "865a6f20",
   "metadata": {
    "id": "865a6f20"
   },
   "outputs": [],
   "source": [
    "y_pred_most_corr = svm_model_most_corr.predict(X_test_most_corr)"
   ]
  },
  {
   "cell_type": "markdown",
   "id": "b46f1332",
   "metadata": {
    "id": "b46f1332"
   },
   "source": [
    "#### Evaluate the model's performance, print classification report and confusion matrix"
   ]
  },
  {
   "cell_type": "code",
   "execution_count": 47,
   "id": "22759abd",
   "metadata": {
    "id": "22759abd"
   },
   "outputs": [
    {
     "data": {
      "text/html": [
       "<style type=\"text/css\">\n",
       "#T_a582d_row0_col0, #T_a582d_row1_col1, #T_a582d_row1_col2, #T_a582d_row2_col3 {\n",
       "  background-color: #f7fbff;\n",
       "  color: #000000;\n",
       "}\n",
       "#T_a582d_row0_col1, #T_a582d_row0_col2, #T_a582d_row1_col0, #T_a582d_row3_col3, #T_a582d_row4_col3 {\n",
       "  background-color: #08306b;\n",
       "  color: #f1f1f1;\n",
       "}\n",
       "#T_a582d_row0_col3, #T_a582d_row2_col1, #T_a582d_row4_col1, #T_a582d_row4_col2 {\n",
       "  background-color: #66abd4;\n",
       "  color: #f1f1f1;\n",
       "}\n",
       "#T_a582d_row1_col3, #T_a582d_row4_col0 {\n",
       "  background-color: #71b1d7;\n",
       "  color: #f1f1f1;\n",
       "}\n",
       "#T_a582d_row2_col0 {\n",
       "  background-color: #84bcdb;\n",
       "  color: #000000;\n",
       "}\n",
       "#T_a582d_row2_col2 {\n",
       "  background-color: #5fa6d1;\n",
       "  color: #f1f1f1;\n",
       "}\n",
       "#T_a582d_row3_col0, #T_a582d_row3_col2 {\n",
       "  background-color: #6caed6;\n",
       "  color: #f1f1f1;\n",
       "}\n",
       "#T_a582d_row3_col1 {\n",
       "  background-color: #6aaed6;\n",
       "  color: #f1f1f1;\n",
       "}\n",
       "</style>\n",
       "<table id=\"T_a582d\">\n",
       "  <caption>Classification Report</caption>\n",
       "  <thead>\n",
       "    <tr>\n",
       "      <th class=\"blank level0\" >&nbsp;</th>\n",
       "      <th id=\"T_a582d_level0_col0\" class=\"col_heading level0 col0\" >precision</th>\n",
       "      <th id=\"T_a582d_level0_col1\" class=\"col_heading level0 col1\" >recall</th>\n",
       "      <th id=\"T_a582d_level0_col2\" class=\"col_heading level0 col2\" >f1-score</th>\n",
       "      <th id=\"T_a582d_level0_col3\" class=\"col_heading level0 col3\" >support</th>\n",
       "    </tr>\n",
       "  </thead>\n",
       "  <tbody>\n",
       "    <tr>\n",
       "      <th id=\"T_a582d_level0_row0\" class=\"row_heading level0 row0\" >0</th>\n",
       "      <td id=\"T_a582d_row0_col0\" class=\"data row0 col0\" >0.762869</td>\n",
       "      <td id=\"T_a582d_row0_col1\" class=\"data row0 col1\" >0.833948</td>\n",
       "      <td id=\"T_a582d_row0_col2\" class=\"data row0 col2\" >0.796827</td>\n",
       "      <td id=\"T_a582d_row0_col3\" class=\"data row0 col3\" >1084.000000</td>\n",
       "    </tr>\n",
       "    <tr>\n",
       "      <th id=\"T_a582d_level0_row1\" class=\"row_heading level0 row1\" >1</th>\n",
       "      <td id=\"T_a582d_row1_col0\" class=\"data row1 col0\" >0.806660</td>\n",
       "      <td id=\"T_a582d_row1_col1\" class=\"data row1 col1\" >0.727713</td>\n",
       "      <td id=\"T_a582d_row1_col2\" class=\"data row1 col2\" >0.765155</td>\n",
       "      <td id=\"T_a582d_row1_col3\" class=\"data row1 col3\" >1032.000000</td>\n",
       "    </tr>\n",
       "    <tr>\n",
       "      <th id=\"T_a582d_level0_row2\" class=\"row_heading level0 row2\" >accuracy</th>\n",
       "      <td id=\"T_a582d_row2_col0\" class=\"data row2 col0\" >0.782136</td>\n",
       "      <td id=\"T_a582d_row2_col1\" class=\"data row2 col1\" >0.782136</td>\n",
       "      <td id=\"T_a582d_row2_col2\" class=\"data row2 col2\" >0.782136</td>\n",
       "      <td id=\"T_a582d_row2_col3\" class=\"data row2 col3\" >0.782136</td>\n",
       "    </tr>\n",
       "    <tr>\n",
       "      <th id=\"T_a582d_level0_row3\" class=\"row_heading level0 row3\" >macro avg</th>\n",
       "      <td id=\"T_a582d_row3_col0\" class=\"data row3 col0\" >0.784764</td>\n",
       "      <td id=\"T_a582d_row3_col1\" class=\"data row3 col1\" >0.780831</td>\n",
       "      <td id=\"T_a582d_row3_col2\" class=\"data row3 col2\" >0.780991</td>\n",
       "      <td id=\"T_a582d_row3_col3\" class=\"data row3 col3\" >2116.000000</td>\n",
       "    </tr>\n",
       "    <tr>\n",
       "      <th id=\"T_a582d_level0_row4\" class=\"row_heading level0 row4\" >weighted avg</th>\n",
       "      <td id=\"T_a582d_row4_col0\" class=\"data row4 col0\" >0.784226</td>\n",
       "      <td id=\"T_a582d_row4_col1\" class=\"data row4 col1\" >0.782136</td>\n",
       "      <td id=\"T_a582d_row4_col2\" class=\"data row4 col2\" >0.781380</td>\n",
       "      <td id=\"T_a582d_row4_col3\" class=\"data row4 col3\" >2116.000000</td>\n",
       "    </tr>\n",
       "  </tbody>\n",
       "</table>\n"
      ],
      "text/plain": [
       "<pandas.io.formats.style.Styler at 0x1c8e5b962b0>"
      ]
     },
     "metadata": {},
     "output_type": "display_data"
    }
   ],
   "source": [
    "report_svm_most_corr = classification_report(y_test_most_corr, y_pred_most_corr, output_dict=True)\n",
    "report_svm_most_corr_df = pd.DataFrame(report_svm_most_corr).transpose()\n",
    "display(report_svm_most_corr_df.style.background_gradient(cmap=\"Blues\").set_caption(\"Classification Report\"))"
   ]
  },
  {
   "cell_type": "code",
   "execution_count": 48,
   "id": "914a2188",
   "metadata": {},
   "outputs": [
    {
     "data": {
      "image/png": "[encoded data removed]",
      "text/plain": [
       "<Figure size 600x400 with 2 Axes>"
      ]
     },
     "metadata": {},
     "output_type": "display_data"
    }
   ],
   "source": [
    "conf_matrix_svm_most_corr = confusion_matrix(y_test_most_corr, y_pred_most_corr)\n",
    "\n",
    "plt.figure(figsize=(6, 4))\n",
    "sns.heatmap(conf_matrix_svm_most_corr, annot=True, fmt='d', cmap='Reds', xticklabels=['Class 0', 'Class 1'], yticklabels=['Class 0', 'Class 1'])\n",
    "plt.title(\"Confusion Matrix\")\n",
    "plt.xlabel(\"Predicted Labels\")\n",
    "plt.ylabel(\"True Labels\")\n",
    "plt.show()"
   ]
  },
  {
   "cell_type": "markdown",
   "id": "a8228c63",
   "metadata": {},
   "source": [
    "- When we use the most correlated 2 feature, we see that the accuracy drops to 78%. This is quite normal since we do not benefit from the effect of the other 14 features.\n",
    "\n",
    "- We see that it has some weakness in predicting positive classes as in logistic regression. There was no such problem when we used all the features."
   ]
  },
  {
   "cell_type": "markdown",
   "id": "dec6bd7c",
   "metadata": {
    "id": "dec6bd7c"
   },
   "source": [
    "##### Visualize decision boundary and support vectors"
   ]
  },
  {
   "cell_type": "code",
   "execution_count": null,
   "id": "d2b188c6",
   "metadata": {
    "id": "d2b188c6"
   },
   "outputs": [],
   "source": [
    "def plot_svm(X,y,model):\n",
    "    x_min, x_max = X[:, 0].min() - 1, X[:, 0].max() + 5\n",
    "    y_min, y_max = X[:, 1].min() - 1, X[:, 1].max() + 1\n",
    "    xx, yy = np.meshgrid(np.linspace(x_min, x_max, 100),\n",
    "                         np.linspace(y_min, y_max, 100))\n",
    "\n",
    "    Z = model.decision_function(np.c_[xx.ravel(), yy.ravel()])\n",
    "    Z = Z.reshape(xx.shape)\n",
    "\n",
    "    plt.figure(figsize=(20, 12))\n",
    "    \n",
    "    plt.contourf(xx, yy, Z, levels=[-np.inf, 0], colors='purple', alpha=0.5)\n",
    "    plt.contourf(xx, yy, Z, levels=[0, np.inf], colors='peachpuff', alpha=0.5)\n",
    "    \n",
    "    plt.scatter(X[:, 0], X[:, 1], c=y, cmap=plt.cm.Paired, edgecolors='k')\n",
    "    plt.scatter(model.support_vectors_[:, 0], model.support_vectors_[:, 1], \n",
    "                s=50, facecolors='g', edgecolors='k', label='Support Vectors')\n",
    "    plt.contour(xx, yy, Z, levels=[-1, 0, 1], linestyles=['-.', '-', '--'], colors='k')\n",
    "    plt.title('SVM Decision Boundary with Support Vectors')\n",
    "    plt.legend()\n",
    "    plt.show()\n",
    "    \n",
    "plot_svm(X_test_most_corr, y_test_most_corr, svm_model_most_corr)"
   ]
  },
  {
   "cell_type": "markdown",
   "id": "146e8099",
   "metadata": {},
   "source": [
    "- The black line represents the decision boundary. The dashed lines show the margins."
   ]
  },
  {
   "cell_type": "markdown",
   "id": "45c75ac8",
   "metadata": {
    "id": "45c75ac8"
   },
   "source": [
    "## 2.3 Implementing svm with least correlated 2 features"
   ]
  },
  {
   "cell_type": "markdown",
   "id": "3c6e5d5f",
   "metadata": {
    "id": "3c6e5d5f"
   },
   "source": [
    "#### Choose the two least correlated features with target feature 'y'"
   ]
  },
  {
   "cell_type": "code",
   "execution_count": null,
   "id": "d984564e",
   "metadata": {
    "id": "d984564e"
   },
   "outputs": [],
   "source": [
    "X_least_corr = df_bankset[['job', 'month']]\n",
    "# We have y"
   ]
  },
  {
   "cell_type": "markdown",
   "id": "fb98d814",
   "metadata": {},
   "source": [
    "- Least correlated features with labels are job (0.02) and month (0.03) features"
   ]
  },
  {
   "cell_type": "markdown",
   "id": "73a3cee4",
   "metadata": {
    "id": "73a3cee4"
   },
   "source": [
    "* Split the dataset into a training set and a validation set (80% training and 20% validation)."
   ]
  },
  {
   "cell_type": "code",
   "execution_count": null,
   "id": "13b0aea0",
   "metadata": {
    "id": "13b0aea0"
   },
   "outputs": [],
   "source": [
    "X_train_least_corr, X_test_least_corr,y_train_least_corr, y_test_least_corr = train_test_split(X_least_corr, y, test_size=0.2, random_state=82)"
   ]
  },
  {
   "cell_type": "markdown",
   "id": "ef3e4a40",
   "metadata": {
    "id": "ef3e4a40"
   },
   "source": [
    "* Scale the features using StandardScaler"
   ]
  },
  {
   "cell_type": "code",
   "execution_count": null,
   "id": "f46c0f27",
   "metadata": {
    "id": "f46c0f27"
   },
   "outputs": [],
   "source": [
    "scaler = StandardScaler()\n",
    "X_train_least_corr = scaler.fit_transform(X_train_least_corr)\n",
    "X_test_least_corr = scaler.transform(X_test_least_corr)"
   ]
  },
  {
   "cell_type": "markdown",
   "id": "c18f96cf",
   "metadata": {
    "id": "c18f96cf"
   },
   "source": [
    "*  Initialize the SVM classifier, assign 'C' and 'kernel' parameters from the best hyperparameters you found from GridSearchCV"
   ]
  },
  {
   "cell_type": "code",
   "execution_count": null,
   "id": "6a58d3c5",
   "metadata": {
    "id": "6a58d3c5"
   },
   "outputs": [],
   "source": [
    "svm_model_least_corr = SVC(C=best_params['C'], kernel=best_params['kernel'])"
   ]
  },
  {
   "cell_type": "markdown",
   "id": "236e5eb0",
   "metadata": {
    "id": "236e5eb0"
   },
   "source": [
    "* Train the SVM classifier"
   ]
  },
  {
   "cell_type": "code",
   "execution_count": null,
   "id": "27265876",
   "metadata": {
    "id": "27265876"
   },
   "outputs": [],
   "source": [
    "svm_model_least_corr.fit(X_train_least_corr, y_train_least_corr)"
   ]
  },
  {
   "cell_type": "markdown",
   "id": "1c7a16f9",
   "metadata": {
    "id": "1c7a16f9"
   },
   "source": [
    "* Make predictions on the validation set"
   ]
  },
  {
   "cell_type": "code",
   "execution_count": null,
   "id": "8cf6101d",
   "metadata": {
    "id": "8cf6101d"
   },
   "outputs": [],
   "source": [
    "y_pred_least_corr = svm_model_least_corr.predict(X_test_least_corr)"
   ]
  },
  {
   "cell_type": "markdown",
   "id": "b24abc7f",
   "metadata": {
    "id": "b24abc7f"
   },
   "source": [
    "#### Evaluate the model's performance, print classification report and confusion matrix"
   ]
  },
  {
   "cell_type": "code",
   "execution_count": null,
   "id": "33954902",
   "metadata": {
    "id": "33954902"
   },
   "outputs": [],
   "source": [
    "report_svm_least_corr = classification_report(y_test_least_corr, y_pred_least_corr, output_dict=True)\n",
    "report_svm_least_corr_df = pd.DataFrame(report_svm_least_corr).transpose()\n",
    "display(report_svm_least_corr_df.style.background_gradient(cmap=\"Blues\").set_caption(\"Classification Report\"))"
   ]
  },
  {
   "cell_type": "code",
   "execution_count": null,
   "id": "b82b0387",
   "metadata": {},
   "outputs": [],
   "source": [
    "conf_matrix_svm_least_corr = confusion_matrix(y_test_least_corr, y_pred_least_corr)\n",
    "\n",
    "plt.figure(figsize=(6, 4))\n",
    "sns.heatmap(conf_matrix_svm_least_corr, annot=True, fmt='d', cmap='Reds', xticklabels=['Class 0', 'Class 1'], yticklabels=['Class 0', 'Class 1'])\n",
    "plt.title(\"Confusion Matrix\")\n",
    "plt.xlabel(\"Predicted Labels\")\n",
    "plt.ylabel(\"True Labels\")\n",
    "plt.show()"
   ]
  },
  {
   "cell_type": "markdown",
   "id": "2d0d28f2",
   "metadata": {},
   "source": [
    "- We see that when training is done with least correlated features, the accuracy drops to 62%. Since these features are the least meaningful features for the label, their effects are low.\n",
    "\n",
    "- The problem of not being able to predict positive classes well enough, which we observed except for the SVM (all features) model, is even more pronounced here. This is also the reason why Accuracy has decreased. Because the correct prediction rate of negative classes is almost the same as other models."
   ]
  },
  {
   "cell_type": "markdown",
   "id": "be860207",
   "metadata": {
    "id": "be860207"
   },
   "source": [
    "##### Visualize decision boundary and support vectors"
   ]
  },
  {
   "cell_type": "code",
   "execution_count": null,
   "id": "634b6546",
   "metadata": {
    "id": "634b6546"
   },
   "outputs": [],
   "source": [
    "plot_svm(X_test_least_corr, y_test_least_corr,svm_model_least_corr)"
   ]
  },
  {
   "cell_type": "markdown",
   "id": "22e5276a",
   "metadata": {
    "id": "22e5276a"
   },
   "source": [
    "### After completing the SVM and logistic regression tasks, the best results of the experiments with the SVM and Logistic regression models will be compared in a table."
   ]
  },
  {
   "cell_type": "code",
   "execution_count": null,
   "id": "e3b11127",
   "metadata": {},
   "outputs": [],
   "source": [
    "result_df = pd.concat([report_all_df, report_svm_all_df], axis=1, ignore_index=False)\n",
    "result_df"
   ]
  },
  {
   "cell_type": "markdown",
   "id": "60b46c20",
   "metadata": {},
   "source": [
    "- The best results in both models were obtained when we used all the features. When we compare these two models, we see that the SVM model is slightly better."
   ]
  },
  {
   "cell_type": "markdown",
   "id": "13b3f65b",
   "metadata": {
    "id": "13b3f65b"
   },
   "source": [
    "# 3. Decision Tree"
   ]
  },
  {
   "cell_type": "markdown",
   "id": "ae3ce88b",
   "metadata": {
    "id": "ae3ce88b"
   },
   "source": [
    "### Import necessary libraries for Decision Tree"
   ]
  },
  {
   "cell_type": "code",
   "execution_count": null,
   "id": "d834fe47",
   "metadata": {},
   "outputs": [],
   "source": [
    "from sklearn.tree import DecisionTreeClassifier\n",
    "from sklearn.tree import plot_tree"
   ]
  },
  {
   "cell_type": "code",
   "execution_count": null,
   "id": "658b8e03",
   "metadata": {
    "id": "658b8e03"
   },
   "outputs": [],
   "source": [
    "df_weights_bmi = pd.read_csv(\"weights_bmi_6classes.csv\", encoding=\"utf-8\") # We will use different dataset\n",
    "df_weights_bmi"
   ]
  },
  {
   "cell_type": "markdown",
   "id": "ce1bf625",
   "metadata": {},
   "source": [
    "- In the dataset, BMI_class represents the label feature. There are 8 features.\n",
    "- Label can be 6 different classes numbered from 1 to 6."
   ]
  },
  {
   "cell_type": "markdown",
   "id": "9b77c205",
   "metadata": {
    "id": "9b77c205"
   },
   "source": [
    "* Define features and target variable, you will use all features of dataset in this task"
   ]
  },
  {
   "cell_type": "code",
   "execution_count": null,
   "id": "888e37f8",
   "metadata": {
    "id": "888e37f8"
   },
   "outputs": [],
   "source": [
    "X_dt = df_weights_bmi.iloc[:,1:]\n",
    "y_dt = df_weights_bmi.iloc[:,0]"
   ]
  },
  {
   "cell_type": "markdown",
   "id": "3d2a6e0d",
   "metadata": {
    "id": "3d2a6e0d"
   },
   "source": [
    "* Split the dataset into a training set and a validation set (80% training and 20% validation)."
   ]
  },
  {
   "cell_type": "code",
   "execution_count": null,
   "id": "93404a8e",
   "metadata": {
    "id": "93404a8e"
   },
   "outputs": [],
   "source": [
    "X_train_dt, X_test_dt, y_train_dt, y_test_dt = train_test_split(X_dt, y_dt, test_size=0.2, random_state=82)"
   ]
  },
  {
   "cell_type": "markdown",
   "id": "7e169bc2",
   "metadata": {
    "id": "7e169bc2"
   },
   "source": [
    "* Initialize the Decision Tree classifier"
   ]
  },
  {
   "cell_type": "code",
   "execution_count": null,
   "id": "56297bf8",
   "metadata": {},
   "outputs": [],
   "source": [
    "dt_model = DecisionTreeClassifier()"
   ]
  },
  {
   "cell_type": "markdown",
   "id": "a6983ce1",
   "metadata": {
    "id": "a6983ce1"
   },
   "source": [
    "* Train the Decision Tree classifier"
   ]
  },
  {
   "cell_type": "code",
   "execution_count": null,
   "id": "eaca379f",
   "metadata": {
    "id": "eaca379f"
   },
   "outputs": [],
   "source": [
    "dt_model.fit(X_train_dt, y_train_dt)"
   ]
  },
  {
   "cell_type": "markdown",
   "id": "8e6685ba",
   "metadata": {
    "id": "8e6685ba"
   },
   "source": [
    "* Make predictions on the validation set"
   ]
  },
  {
   "cell_type": "code",
   "execution_count": null,
   "id": "f155954d",
   "metadata": {
    "id": "f155954d"
   },
   "outputs": [],
   "source": [
    "y_pred_dt = dt_model.predict(X_test_dt)\n",
    "\n",
    "accuracy_score(y_test_dt, y_pred_dt)"
   ]
  },
  {
   "cell_type": "markdown",
   "id": "1268abc3",
   "metadata": {
    "id": "1268abc3"
   },
   "source": [
    "#### Evaluate the model's performance, print classification report and confusion matrix"
   ]
  },
  {
   "cell_type": "code",
   "execution_count": null,
   "id": "e019beb4",
   "metadata": {
    "id": "e019beb4"
   },
   "outputs": [],
   "source": [
    "report_dt = classification_report(y_test_dt, y_pred_dt, output_dict=True)\n",
    "report_dt_df = pd.DataFrame(report_dt).transpose()\n",
    "display(report_dt_df.style.background_gradient(cmap=\"Blues\").set_caption(\"Classification Report\"))"
   ]
  },
  {
   "cell_type": "code",
   "execution_count": null,
   "id": "62f1332d",
   "metadata": {},
   "outputs": [],
   "source": [
    "conf_matrix_dt = confusion_matrix(y_test_dt, y_pred_dt)\n",
    "\n",
    "plt.figure(figsize=(6, 4))\n",
    "sns.heatmap(conf_matrix_dt, annot=True, fmt='d', cmap='Reds', xticklabels=['0','1','2','3','4','5'], yticklabels=['0','1','2','3','4','5','6'])\n",
    "plt.title(\"Confusion Matrix\")\n",
    "plt.xlabel(\"Predicted Labels\")\n",
    "plt.ylabel(\"True Labels\")\n",
    "plt.show()"
   ]
  },
  {
   "cell_type": "markdown",
   "id": "9d8a459a",
   "metadata": {
    "id": "9d8a459a"
   },
   "source": [
    "#### Visualize the Decision Tree, show clearly class number, gini value etc.\n"
   ]
  },
  {
   "cell_type": "code",
   "execution_count": null,
   "id": "15636031",
   "metadata": {
    "id": "15636031"
   },
   "outputs": [],
   "source": [
    "plt.figure(figsize=(40, 20))\n",
    "plot_tree(dt_model,max_depth=4, filled=True, feature_names=X_dt.columns, class_names=str(y_dt.unique()), fontsize=11)\n",
    "plt.show()"
   ]
  },
  {
   "cell_type": "markdown",
   "id": "74efc2c9",
   "metadata": {
    "id": "74efc2c9"
   },
   "source": [
    "### What is the role of gini in decision tree?"
   ]
  },
  {
   "cell_type": "markdown",
   "id": "cbc9fbb5",
   "metadata": {
    "id": "46991c4c"
   },
   "source": [
    "- The Gini value measures the purity of the existing data. The closer it is to 0, the simpler it is. The closer it is to 1, the more complex it is. The aim of the DEcision tree is to reach the precision estimate by making divisions that will reduce the Gini index as much as possible."
   ]
  }
 ],
 "metadata": {
  "colab": {
   "provenance": []
  },
  "kernelspec": {
   "display_name": "Python 3 (ipykernel)",
   "language": "python",
   "name": "python3"
  },
  "language_info": {
   "codemirror_mode": {
    "name": "ipython",
    "version": 3
   },
   "file_extension": ".py",
   "mimetype": "text/x-python",
   "name": "python",
   "nbconvert_exporter": "python",
   "pygments_lexer": "ipython3",
   "version": "3.9.13"
  }
 },
 "nbformat": 4,
 "nbformat_minor": 5
}
